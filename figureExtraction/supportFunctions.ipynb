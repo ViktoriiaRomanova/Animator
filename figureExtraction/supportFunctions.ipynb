{
 "cells": [
  {
   "cell_type": "code",
   "execution_count": 1,
   "id": "06293c05",
   "metadata": {
    "cellId": "ecgmi7la737vmoma8s67x9",
    "execution": {
     "iopub.execute_input": "2024-02-29T15:27:49.239612363Z",
     "iopub.status.busy": "2024-02-29T15:27:50.412107Z",
     "iopub.status.idle": "2024-02-29T15:27:51.700499Z",
     "shell.execute_reply": "2024-02-29T15:27:51.699700Z",
     "shell.execute_reply.started": "2024-02-29T15:27:50.412711Z"
    }
   },
   "outputs": [],
   "source": [
    "import torch\n",
    "from torchsummary import summary\n",
    "from collections import OrderedDict\n",
    "from torchvision.models import VGG16_Weights\n",
    "from SegNetModel import SegNet\n",
    "from UNetModel import UNet\n",
    "import os"
   ]
  },
  {
   "cell_type": "code",
   "execution_count": 2,
   "id": "9e309fd2",
   "metadata": {
    "cellId": "i2y9lj1fgdwh3lxvf60f",
    "execution": {
     "iopub.execute_input": "2024-02-29T15:27:49.926379496Z",
     "iopub.status.busy": "2024-02-29T15:27:52.388115Z",
     "iopub.status.idle": "2024-02-29T15:27:52.400267Z",
     "shell.execute_reply": "2024-02-29T15:27:52.399661Z",
     "shell.execute_reply.started": "2024-02-29T15:27:52.389063Z"
    }
   },
   "outputs": [],
   "source": [
    "import sys\n",
    "sys.path.append('/home/jupyter/work/resources/')"
   ]
  },
  {
   "cell_type": "code",
   "execution_count": 3,
   "id": "44f6f55c",
   "metadata": {
    "cellId": "t8y21w2rxrpug1u6ijaht",
    "execution": {
     "iopub.execute_input": "2024-02-29T15:27:50.420548870Z",
     "iopub.status.busy": "2024-02-29T15:27:53.087559Z",
     "iopub.status.idle": "2024-02-29T15:27:53.169183Z",
     "shell.execute_reply": "2024-02-29T15:27:53.168524Z",
     "shell.execute_reply.started": "2024-02-29T15:27:53.088237Z"
    }
   },
   "outputs": [],
   "source": [
    "model = UNet()"
   ]
  },
  {
   "cell_type": "code",
   "execution_count": 4,
   "id": "f8e34592",
   "metadata": {
    "cellId": "i3x3p73q5ei07gylxlfxlg5",
    "execution": {
     "iopub.execute_input": "2024-02-29T15:27:57.337168535Z",
     "iopub.status.busy": "2024-02-29T15:27:58.373045Z",
     "iopub.status.idle": "2024-02-29T15:27:59.360796Z",
     "shell.execute_reply": "2024-02-29T15:27:59.360121Z",
     "shell.execute_reply.started": "2024-02-29T15:27:58.373701Z"
    }
   },
   "outputs": [],
   "source": [
    "summary(model, (3,224,224))"
   ]
  },
  {
   "cell_type": "markdown",
   "id": "e82cfc74",
   "metadata": {
    "cellId": "xggh9zq4aoespkvlrxe5x",
    "execution_id": "c25e0de5-55f0-43ab-9e3f-22baded87c49"
   },
   "source": [
    "### Loading pre-trained weights(VGG16) into SegNet encoder"
   ]
  },
  {
   "cell_type": "code",
   "execution_count": 5,
   "id": "bd8a777d",
   "metadata": {
    "cellId": "fgh3ts5uxygdu6njer7jj"
   },
   "outputs": [],
   "source": [
    "MODEL_WEIGHTS_DIR = './models/weights/'"
   ]
  },
  {
   "cell_type": "code",
   "execution_count": 6,
   "id": "633ed35d",
   "metadata": {
    "cellId": "rrzfzo9mt2r1otc7ytz0lr"
   },
   "outputs": [],
   "source": [
    "def state_dict_name_modifier(state_dict: OrderedDict, model_state_dict: OrderedDict) -> OrderedDict:\n",
    "    \n",
    "    # Check which layer name pairs with my model layer name\n",
    "    name_map = {}\n",
    "    weight_name_size = [(k, v.shape) for k, v in state_dict.items()] \n",
    "    my_model_name_size = [(k, v.shape) for k, v in model_state_dict.items()]\n",
    "    n, m = len(weight_name_size), len(my_model_name_size)\n",
    "    i, j = 0, 0\n",
    "    while i < n and j < m:\n",
    "        if weight_name_size[i][0].startswith('classifier'): break\n",
    "        while weight_name_size[i][1] != my_model_name_size[j][1]:\n",
    "            j += 1    \n",
    "        name_map[weight_name_size[i][0]] = my_model_name_size[j][0]\n",
    "        i += 1\n",
    "        \n",
    "    # Rename pretraind layers\n",
    "    renamed_state_dict = OrderedDict()\n",
    "    for key, val in state_dict.items():\n",
    "        if key.startswith('classifier'): break\n",
    "        renamed_state_dict[name_map[key]] = val\n",
    "    return renamed_state_dict"
   ]
  },
  {
   "cell_type": "code",
   "execution_count": 7,
   "id": "2a398218",
   "metadata": {
    "cellId": "4apkg9ejxzl08jqhpuxnsv6"
   },
   "outputs": [],
   "source": [
    "weights_path = MODEL_WEIGHTS_DIR + 'pretrained_encoder_weights_DEFAULT.pt'"
   ]
  },
  {
   "cell_type": "code",
   "execution_count": 11,
   "id": "6104d8e8",
   "metadata": {
    "cellId": "7vqz36xml0h2h8dhxrkl8m"
   },
   "outputs": [],
   "source": [
    "# Skip this part if you already have renamed and saved model weights\n",
    "\n",
    "if not os.path.isfile(weights_path):\n",
    "    if not os.path.exists(MODEL_WEIGHTS_DIR):\n",
    "        os.makedirs(MODEL_WEIGHTS_DIR)\n",
    "    weights = VGG16_Weights.IMAGENET1K_V1\n",
    "    state_dict = state_dict_name_modifier(torch.hub.load_state_dict_from_url(VGG16_Weights.IMAGENET1K_V1.url), model.encoder.state_dict())\n",
    "    torch.save(state_dict, weights_path)"
   ]
  },
  {
   "cell_type": "code",
   "execution_count": 23,
   "id": "685290ec",
   "metadata": {
    "cellId": "cgwyc16gchgnwme92vtix"
   },
   "outputs": [],
   "source": [
    "state_dict = torch.load(weights_path)"
   ]
  },
  {
   "cell_type": "code",
   "execution_count": 12,
   "id": "faf998af",
   "metadata": {
    "cellId": "inxk8xolxxgk3qz3s2a0uc"
   },
   "outputs": [],
   "source": [
    "model.encoder.load_state_dict(state_dict, strict = False)"
   ]
  },
  {
   "cell_type": "code",
   "execution_count": 86,
   "id": "daa7d715",
   "metadata": {
    "cellId": "5zfz451cqrjkowfzet3sgs"
   },
   "outputs": [],
   "source": [
    "from torchvision import transforms\n",
    "transform_train = transforms.Compose([\n",
    "    transforms.Resize([224, 224]),\n",
    "    #transforms.ToTensor(),\n",
    "    transforms.Normalize((0.485, 0.456, 0.406, 0.5), (0.229, 0.224, 0.225, 0.5)),\n",
    "    transforms.RandomRotation(random.randint(0, 180))])"
   ]
  },
  {
   "cell_type": "code",
   "execution_count": 46,
   "id": "5105f0ff",
   "metadata": {
    "cellId": "sztk0c4mdx3ad4vgj4myf"
   },
   "outputs": [],
   "source": [
    "from PIL import Image"
   ]
  },
  {
   "cell_type": "code",
   "execution_count": 48,
   "id": "7dc7b9ef",
   "metadata": {
    "cellId": "7irrbyxw95h45wksomkzr"
   },
   "outputs": [],
   "source": [
    "image = Image.open('./datasets/segNet/images/1.jpg')\n",
    "mask = Image.open('./datasets/segNet/mask/1.png')"
   ]
  },
  {
   "cell_type": "code",
   "execution_count": 60,
   "id": "18f7c632",
   "metadata": {
    "cellId": "iyta7ceor9ea6e3an64px"
   },
   "outputs": [],
   "source": [
    "mask"
   ]
  },
  {
   "cell_type": "code",
   "execution_count": 130,
   "id": "325baeff",
   "metadata": {
    "cellId": "ouyu507i64wd554l1x18"
   },
   "outputs": [],
   "source": [
    "m = torch.as_tensor(np.array(mask))"
   ]
  },
  {
   "cell_type": "code",
   "execution_count": 131,
   "id": "43fa435b",
   "metadata": {
    "cellId": "vtuhwfchcq7wbten5xm9m"
   },
   "outputs": [],
   "source": [
    "m.max()"
   ]
  },
  {
   "cell_type": "code",
   "execution_count": 64,
   "id": "58d63dbf",
   "metadata": {
    "cellId": "4dy3vfcdsqis1whwr0dfy"
   },
   "outputs": [],
   "source": [
    "tr = transforms.ToTensor()"
   ]
  },
  {
   "cell_type": "code",
   "execution_count": 65,
   "id": "4bd09a28",
   "metadata": {
    "cellId": "dyfuq85525uxrww9kjyote"
   },
   "outputs": [],
   "source": [
    "im = tr(image)"
   ]
  },
  {
   "cell_type": "code",
   "execution_count": 66,
   "id": "379a1a7e",
   "metadata": {
    "cellId": "p19zcudls5j62hu8gwyv0t"
   },
   "outputs": [],
   "source": [
    "ms = tr(mask)"
   ]
  },
  {
   "cell_type": "code",
   "execution_count": 133,
   "id": "585bc6b3",
   "metadata": {
    "cellId": "81ngwhuyuiu1y8a2m2p2y5"
   },
   "outputs": [],
   "source": [
    "transforms.ToTensor(mask)"
   ]
  },
  {
   "cell_type": "code",
   "execution_count": 123,
   "id": "c188c2e3",
   "metadata": {
    "cellId": "rzadwl1bar8qxs290sloz"
   },
   "outputs": [],
   "source": [
    "ms8 = tr(Image.open('./datasets/segNet/mask/2.png'))"
   ]
  },
  {
   "cell_type": "code",
   "execution_count": 127,
   "id": "84afecb6",
   "metadata": {
    "cellId": "82kcvp1zccjngpo7h23yz"
   },
   "outputs": [],
   "source": [
    "image8 = tr(Image.open('./datasets/segNet/images/8.jpg'))"
   ]
  },
  {
   "cell_type": "code",
   "execution_count": 128,
   "id": "17353445",
   "metadata": {
    "cellId": "6w3155budxoc3diux1h2b"
   },
   "outputs": [],
   "source": [
    "image8.max()"
   ]
  },
  {
   "cell_type": "code",
   "execution_count": 124,
   "id": "6b23a53f",
   "metadata": {
    "cellId": "cw1c0cky38sbatkd3wwxv"
   },
   "outputs": [],
   "source": [
    "ms8.max()"
   ]
  },
  {
   "cell_type": "code",
   "execution_count": 68,
   "id": "cfce2f87",
   "metadata": {
    "cellId": "npbedxcr6fbpaiydptd3p"
   },
   "outputs": [],
   "source": [
    "tmp = transforms.Resize([224, 224])"
   ]
  },
  {
   "cell_type": "code",
   "execution_count": 71,
   "id": "e246c939",
   "metadata": {
    "cellId": "g0gl604jpfdltawvrsozla"
   },
   "outputs": [],
   "source": [
    "tr(tmp(image)).shape"
   ]
  },
  {
   "cell_type": "code",
   "execution_count": 67,
   "id": "756cf8ea",
   "metadata": {
    "cellId": "tgqv1lph41k0n9husap6uih"
   },
   "outputs": [],
   "source": [
    "print(im.shape, ms.shape)"
   ]
  },
  {
   "cell_type": "code",
   "execution_count": 73,
   "id": "82a51dfa",
   "metadata": {
    "cellId": "gja9s9ad7tw8ypi1w1rnp"
   },
   "outputs": [],
   "source": [
    "im1 = im.unsqueeze(0)"
   ]
  },
  {
   "cell_type": "code",
   "execution_count": 74,
   "id": "648a0620",
   "metadata": {
    "cellId": "9v8y36p821qir6s0bvcp4o"
   },
   "outputs": [],
   "source": [
    "ms1 = ms.unsqueeze(0)\n",
    "ms1.shape"
   ]
  },
  {
   "cell_type": "code",
   "execution_count": 85,
   "id": "d531c395",
   "metadata": {
    "cellId": "06q839syyd0liljvixd8c9m"
   },
   "outputs": [],
   "source": [
    "ms"
   ]
  },
  {
   "cell_type": "code",
   "execution_count": 75,
   "id": "5ef1a414",
   "metadata": {
    "cellId": "vfhnljih5vbaloq5z56gjw"
   },
   "outputs": [],
   "source": [
    "im1.shape"
   ]
  },
  {
   "cell_type": "code",
   "execution_count": 78,
   "id": "b2fb7676",
   "metadata": {
    "cellId": "v54nm6q3rtnaz974kisih"
   },
   "outputs": [],
   "source": [
    "both = torch.cat((im, ms), dim = 0)"
   ]
  },
  {
   "cell_type": "code",
   "execution_count": 87,
   "id": "4f061dd7",
   "metadata": {
    "cellId": "wcwb83w7tqu9qve4ja3zi"
   },
   "outputs": [],
   "source": [
    "res = transform_train(both)"
   ]
  },
  {
   "cell_type": "code",
   "execution_count": 100,
   "id": "cec65187",
   "metadata": {
    "cellId": "uart4bvbj9nsbkcreyldtp"
   },
   "outputs": [],
   "source": [
    "im2, ms2 = torch.tensor_split(res,[3], dim = 0)"
   ]
  },
  {
   "cell_type": "code",
   "execution_count": 92,
   "id": "a52b1be6",
   "metadata": {
    "cellId": "z2bmc7zyyknm6yv6lnjp5"
   },
   "outputs": [],
   "source": [
    "import numpy as np"
   ]
  },
  {
   "cell_type": "code",
   "execution_count": 101,
   "id": "3bf90a9c",
   "metadata": {
    "cellId": "s6u6qp49usgskskxeon38"
   },
   "outputs": [],
   "source": [
    "im2.shape"
   ]
  },
  {
   "cell_type": "code",
   "execution_count": 113,
   "id": "1a0e9132",
   "metadata": {
    "cellId": "cu0b35rb7jc9ydldidkmyq"
   },
   "outputs": [],
   "source": [
    "def conv_to_img(tensor: torch.tensor) -> np.array:\n",
    "    \"\"\"Convert image to display by pyplot.\"\"\"\n",
    "    img = tensor.to('cpu').clone().detach()\n",
    "    img = img.numpy().squeeze()\n",
    "    #img = img.transpose(1, 2, 0)\n",
    "    #img = img * np.array((0.229, 0.224, 0.225)) + np.array((0.485, 0.456, 0.406))\n",
    "    img = img.clip(0, 1)\n",
    "    return img\n"
   ]
  },
  {
   "cell_type": "code",
   "execution_count": 105,
   "id": "a1a174b5",
   "metadata": {
    "cellId": "e50tmgsse9pnv8wvalzpb9"
   },
   "outputs": [],
   "source": [
    "pic = conv_to_img(im2)"
   ]
  },
  {
   "cell_type": "code",
   "execution_count": 114,
   "id": "5d8e0512",
   "metadata": {
    "cellId": "64g4ctvc1a6n6mgwaapcx"
   },
   "outputs": [],
   "source": [
    "picm = conv_to_img(ms2)"
   ]
  },
  {
   "cell_type": "code",
   "execution_count": 108,
   "id": "3ee199b9",
   "metadata": {
    "cellId": "4ccdw45p4hy46emb472qoy"
   },
   "outputs": [],
   "source": [
    "import matplotlib.pyplot as plt"
   ]
  },
  {
   "cell_type": "code",
   "execution_count": 109,
   "id": "b18e3be2",
   "metadata": {
    "cellId": "3xk9wrsqfuui5tcx3hsr5"
   },
   "outputs": [],
   "source": [
    "plt.imshow(pic)"
   ]
  },
  {
   "cell_type": "code",
   "execution_count": 116,
   "id": "83829feb",
   "metadata": {
    "cellId": "6pxtdr6jdwi2q9wil026t3"
   },
   "outputs": [],
   "source": [
    "plt.imshow(picm)"
   ]
  },
  {
   "cell_type": "code",
   "execution_count": 121,
   "id": "c9100860",
   "metadata": {
    "cellId": "aaex773qzoj36uy13wyqqd"
   },
   "outputs": [],
   "source": [
    "ms2.max()"
   ]
  },
  {
   "cell_type": "code",
   "execution_count": 58,
   "id": "f252f1e4",
   "metadata": {
    "cellId": "h1uezv7wuodo77jhwvuek"
   },
   "outputs": [],
   "source": [
    "transform_train(image, mask)"
   ]
  },
  {
   "cell_type": "code",
   "execution_count": null,
   "id": "1e4332e3",
   "metadata": {
    "cellId": "pnbfa8jymz9zjpbqyyngwd"
   },
   "outputs": [],
   "source": []
  },
  {
   "cell_type": "code",
   "execution_count": 54,
   "id": "0ef8d685",
   "metadata": {
    "cellId": "4b1fp705dtoz724mhszwmk"
   },
   "outputs": [],
   "source": [
    "import torchvision\n",
    "torchvision.__version__"
   ]
  },
  {
   "cell_type": "code",
   "execution_count": 56,
   "id": "cabffb87",
   "metadata": {
    "cellId": "8jppva2b5ticnuk1ss8vo7"
   },
   "outputs": [],
   "source": [
    "from torchvision.transforms import v2"
   ]
  },
  {
   "cell_type": "code",
   "execution_count": null,
   "id": "1912474e",
   "metadata": {
    "cellId": "f4u8u9apixjuhh9u6do3ds"
   },
   "outputs": [],
   "source": []
  }
 ],
 "metadata": {
  "language_info": {
   "codemirror_mode": {
    "name": "ipython",
    "version": 3
   },
   "file_extension": ".py",
   "mimetype": "text/x-python",
   "name": "python",
   "nbconvert_exporter": "python",
   "pygments_lexer": "ipython3",
   "version": "3.7.7"
  },
  "notebookId": "eb320824-5ab6-49d0-a786-16d3c9d98f06",
  "notebookPath": "figureExtraction/supportFunctions.ipynb"
 },
 "nbformat": 4,
 "nbformat_minor": 5
}
