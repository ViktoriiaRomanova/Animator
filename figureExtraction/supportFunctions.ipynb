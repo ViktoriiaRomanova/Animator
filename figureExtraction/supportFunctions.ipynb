{
 "cells": [
  {
   "cell_type": "code",
   "execution_count": 2,
   "id": "42fd457d",
   "metadata": {
    "cellId": "ecgmi7la737vmoma8s67x9"
   },
   "outputs": [],
   "source": [
    "import torch\n",
    "from torchsummary import summary\n",
    "from collections import OrderedDict\n",
    "from torchvision.models import VGG16_Weights\n",
    "from SegNetModel import SegNet\n",
    "import os"
   ]
  },
  {
   "cell_type": "code",
   "execution_count": 3,
   "id": "f7db0825",
   "metadata": {
    "cellId": "i2y9lj1fgdwh3lxvf60f"
   },
   "outputs": [],
   "source": [
    "import sys\n",
    "sys.path.append('/home/jupyter/work/resources/')"
   ]
  },
  {
   "cell_type": "code",
   "execution_count": 10,
   "id": "bf3df128",
   "metadata": {
    "cellId": "t8y21w2rxrpug1u6ijaht"
   },
   "outputs": [],
   "source": [
    "model = SegNet()"
   ]
  },
  {
   "cell_type": "code",
   "execution_count": 6,
   "id": "6d0c13f7",
   "metadata": {
    "cellId": "i3x3p73q5ei07gylxlfxlg5"
   },
   "outputs": [
    {
     "name": "stdout",
     "output_type": "stream",
     "text": [
      "----------------------------------------------------------------\n",
      "        Layer (type)               Output Shape         Param #\n",
      "================================================================\n",
      "            Conv2d-1         [-1, 64, 224, 224]           1,792\n",
      "       BatchNorm2d-2         [-1, 64, 224, 224]             128\n",
      "              ReLU-3         [-1, 64, 224, 224]               0\n",
      "            Conv2d-4         [-1, 64, 224, 224]          36,928\n",
      "       BatchNorm2d-5         [-1, 64, 224, 224]             128\n",
      "              ReLU-6         [-1, 64, 224, 224]               0\n",
      "         MaxPool2d-7         [-1, 64, 112, 112]               0\n",
      "            Conv2d-8        [-1, 128, 112, 112]          73,856\n",
      "       BatchNorm2d-9        [-1, 128, 112, 112]             256\n",
      "             ReLU-10        [-1, 128, 112, 112]               0\n",
      "           Conv2d-11        [-1, 128, 112, 112]         147,584\n",
      "      BatchNorm2d-12        [-1, 128, 112, 112]             256\n",
      "             ReLU-13        [-1, 128, 112, 112]               0\n",
      "        MaxPool2d-14          [-1, 128, 56, 56]               0\n",
      "           Conv2d-15          [-1, 256, 56, 56]         295,168\n",
      "      BatchNorm2d-16          [-1, 256, 56, 56]             512\n",
      "             ReLU-17          [-1, 256, 56, 56]               0\n",
      "           Conv2d-18          [-1, 256, 56, 56]         590,080\n",
      "      BatchNorm2d-19          [-1, 256, 56, 56]             512\n",
      "             ReLU-20          [-1, 256, 56, 56]               0\n",
      "           Conv2d-21          [-1, 256, 56, 56]         590,080\n",
      "      BatchNorm2d-22          [-1, 256, 56, 56]             512\n",
      "             ReLU-23          [-1, 256, 56, 56]               0\n",
      "        MaxPool2d-24          [-1, 256, 28, 28]               0\n",
      "           Conv2d-25          [-1, 512, 28, 28]       1,180,160\n",
      "      BatchNorm2d-26          [-1, 512, 28, 28]           1,024\n",
      "             ReLU-27          [-1, 512, 28, 28]               0\n",
      "           Conv2d-28          [-1, 512, 28, 28]       2,359,808\n",
      "      BatchNorm2d-29          [-1, 512, 28, 28]           1,024\n",
      "             ReLU-30          [-1, 512, 28, 28]               0\n",
      "           Conv2d-31          [-1, 512, 28, 28]       2,359,808\n",
      "      BatchNorm2d-32          [-1, 512, 28, 28]           1,024\n",
      "             ReLU-33          [-1, 512, 28, 28]               0\n",
      "        MaxPool2d-34          [-1, 512, 14, 14]               0\n",
      "           Conv2d-35          [-1, 512, 14, 14]       2,359,808\n",
      "      BatchNorm2d-36          [-1, 512, 14, 14]           1,024\n",
      "             ReLU-37          [-1, 512, 14, 14]               0\n",
      "           Conv2d-38          [-1, 512, 14, 14]       2,359,808\n",
      "      BatchNorm2d-39          [-1, 512, 14, 14]           1,024\n",
      "             ReLU-40          [-1, 512, 14, 14]               0\n",
      "           Conv2d-41          [-1, 512, 14, 14]       2,359,808\n",
      "      BatchNorm2d-42          [-1, 512, 14, 14]           1,024\n",
      "             ReLU-43          [-1, 512, 14, 14]               0\n",
      "        MaxPool2d-44            [-1, 512, 7, 7]               0\n",
      "         Upsample-45          [-1, 512, 14, 14]               0\n",
      "           Conv2d-46          [-1, 512, 14, 14]       2,359,808\n",
      "      BatchNorm2d-47          [-1, 512, 14, 14]           1,024\n",
      "             ReLU-48          [-1, 512, 14, 14]               0\n",
      "           Conv2d-49          [-1, 512, 14, 14]       2,359,808\n",
      "      BatchNorm2d-50          [-1, 512, 14, 14]           1,024\n",
      "             ReLU-51          [-1, 512, 14, 14]               0\n",
      "           Conv2d-52          [-1, 512, 14, 14]       2,359,808\n",
      "      BatchNorm2d-53          [-1, 512, 14, 14]           1,024\n",
      "             ReLU-54          [-1, 512, 14, 14]               0\n",
      "         Upsample-55          [-1, 512, 28, 28]               0\n",
      "           Conv2d-56          [-1, 512, 28, 28]       2,359,808\n",
      "      BatchNorm2d-57          [-1, 512, 28, 28]           1,024\n",
      "             ReLU-58          [-1, 512, 28, 28]               0\n",
      "           Conv2d-59          [-1, 512, 28, 28]       2,359,808\n",
      "      BatchNorm2d-60          [-1, 512, 28, 28]           1,024\n",
      "             ReLU-61          [-1, 512, 28, 28]               0\n",
      "           Conv2d-62          [-1, 512, 28, 28]       2,359,808\n",
      "      BatchNorm2d-63          [-1, 512, 28, 28]           1,024\n",
      "             ReLU-64          [-1, 512, 28, 28]               0\n",
      "         Upsample-65          [-1, 512, 56, 56]               0\n",
      "           Conv2d-66          [-1, 256, 56, 56]       1,179,904\n",
      "      BatchNorm2d-67          [-1, 256, 56, 56]             512\n",
      "             ReLU-68          [-1, 256, 56, 56]               0\n",
      "           Conv2d-69          [-1, 256, 56, 56]         590,080\n",
      "      BatchNorm2d-70          [-1, 256, 56, 56]             512\n",
      "             ReLU-71          [-1, 256, 56, 56]               0\n",
      "           Conv2d-72          [-1, 256, 56, 56]         590,080\n",
      "      BatchNorm2d-73          [-1, 256, 56, 56]             512\n",
      "             ReLU-74          [-1, 256, 56, 56]               0\n",
      "         Upsample-75        [-1, 256, 112, 112]               0\n",
      "           Conv2d-76        [-1, 128, 112, 112]         295,040\n",
      "      BatchNorm2d-77        [-1, 128, 112, 112]             256\n",
      "             ReLU-78        [-1, 128, 112, 112]               0\n",
      "           Conv2d-79        [-1, 128, 112, 112]         147,584\n",
      "      BatchNorm2d-80        [-1, 128, 112, 112]             256\n",
      "             ReLU-81        [-1, 128, 112, 112]               0\n",
      "         Upsample-82        [-1, 128, 224, 224]               0\n",
      "           Conv2d-83         [-1, 64, 224, 224]          73,792\n",
      "      BatchNorm2d-84         [-1, 64, 224, 224]             128\n",
      "             ReLU-85         [-1, 64, 224, 224]               0\n",
      "           Conv2d-86         [-1, 64, 224, 224]          36,928\n",
      "      BatchNorm2d-87         [-1, 64, 224, 224]             128\n",
      "             ReLU-88         [-1, 64, 224, 224]               0\n",
      "           Conv2d-89          [-1, 1, 224, 224]             577\n",
      "================================================================\n",
      "Total params: 31,804,417\n",
      "Trainable params: 31,804,417\n",
      "Non-trainable params: 0\n",
      "----------------------------------------------------------------\n",
      "Input size (MB): 0.57\n",
      "Forward/backward pass size (MB): 721.79\n",
      "Params size (MB): 121.32\n",
      "Estimated Total Size (MB): 843.69\n",
      "----------------------------------------------------------------\n"
     ]
    }
   ],
   "source": [
    "summary(model, (3,224,224))"
   ]
  },
  {
   "cell_type": "markdown",
   "id": "a45bb565",
   "metadata": {
    "cellId": "xggh9zq4aoespkvlrxe5x",
    "execution_id": "c25e0de5-55f0-43ab-9e3f-22baded87c49"
   },
   "source": [
    "### Loading pre-trained weights(VGG16) into SegNet encoder"
   ]
  },
  {
   "cell_type": "code",
   "execution_count": 5,
   "id": "6a5131b6",
   "metadata": {
    "cellId": "fgh3ts5uxygdu6njer7jj"
   },
   "outputs": [],
   "source": [
    "MODEL_WEIGHTS_DIR = './models/weights/'"
   ]
  },
  {
   "cell_type": "code",
   "execution_count": 6,
   "id": "b3e0c49c",
   "metadata": {
    "cellId": "rrzfzo9mt2r1otc7ytz0lr"
   },
   "outputs": [],
   "source": [
    "def state_dict_name_modifier(state_dict: OrderedDict, model_state_dict: OrderedDict) -> OrderedDict:\n",
    "    \n",
    "    # Check which layer name pairs with my model layer name\n",
    "    name_map = {}\n",
    "    weight_name_size = [(k, v.shape) for k, v in state_dict.items()] \n",
    "    my_model_name_size = [(k, v.shape) for k, v in model_state_dict.items()]\n",
    "    n, m = len(weight_name_size), len(my_model_name_size)\n",
    "    i, j = 0, 0\n",
    "    while i < n and j < m:\n",
    "        if weight_name_size[i][0].startswith('classifier'): break\n",
    "        while weight_name_size[i][1] != my_model_name_size[j][1]:\n",
    "            j += 1    \n",
    "        name_map[weight_name_size[i][0]] = my_model_name_size[j][0]\n",
    "        i += 1\n",
    "        \n",
    "    # Rename pretraind layers\n",
    "    renamed_state_dict = OrderedDict()\n",
    "    for key, val in state_dict.items():\n",
    "        if key.startswith('classifier'): break\n",
    "        renamed_state_dict[name_map[key]] = val\n",
    "    return renamed_state_dict"
   ]
  },
  {
   "cell_type": "code",
   "execution_count": 7,
   "id": "1cc7b8b4",
   "metadata": {
    "cellId": "4apkg9ejxzl08jqhpuxnsv6"
   },
   "outputs": [],
   "source": [
    "weights_path = MODEL_WEIGHTS_DIR + 'pretrained_encoder_weights_DEFAULT.pt'"
   ]
  },
  {
   "cell_type": "code",
   "execution_count": 11,
   "id": "e24c7ce1",
   "metadata": {
    "cellId": "7vqz36xml0h2h8dhxrkl8m"
   },
   "outputs": [],
   "source": [
    "# Skip this part if you already have renamed and saved model weights\n",
    "\n",
    "if not os.path.isfile(weights_path):\n",
    "    if not os.path.exists(MODEL_WEIGHTS_DIR):\n",
    "        os.makedirs(MODEL_WEIGHTS_DIR)\n",
    "    weights = VGG16_Weights.IMAGENET1K_V1\n",
    "    state_dict = state_dict_name_modifier(torch.hub.load_state_dict_from_url(VGG16_Weights.IMAGENET1K_V1.url), model.encoder.state_dict())\n",
    "    torch.save(state_dict, weights_path)"
   ]
  },
  {
   "cell_type": "code",
   "execution_count": 23,
   "id": "6fc8bd2a",
   "metadata": {
    "cellId": "cgwyc16gchgnwme92vtix"
   },
   "outputs": [],
   "source": [
    "state_dict = torch.load(weights_path)"
   ]
  },
  {
   "cell_type": "code",
   "execution_count": 12,
   "id": "9d651954",
   "metadata": {
    "cellId": "inxk8xolxxgk3qz3s2a0uc"
   },
   "outputs": [
    {
     "data": {
      "text/plain": [
       "_IncompatibleKeys(missing_keys=['1.weight', '1.bias', '1.running_mean', '1.running_var', '4.weight', '4.bias', '4.running_mean', '4.running_var', '8.weight', '8.bias', '8.running_mean', '8.running_var', '11.weight', '11.bias', '11.running_mean', '11.running_var', '15.weight', '15.bias', '15.running_mean', '15.running_var', '18.weight', '18.bias', '18.running_mean', '18.running_var', '21.weight', '21.bias', '21.running_mean', '21.running_var', '25.weight', '25.bias', '25.running_mean', '25.running_var', '28.weight', '28.bias', '28.running_mean', '28.running_var', '31.weight', '31.bias', '31.running_mean', '31.running_var', '35.weight', '35.bias', '35.running_mean', '35.running_var', '38.weight', '38.bias', '38.running_mean', '38.running_var', '41.weight', '41.bias', '41.running_mean', '41.running_var'], unexpected_keys=[])"
      ]
     },
     "execution_count": 12,
     "metadata": {},
     "output_type": "execute_result"
    }
   ],
   "source": [
    "model.encoder.load_state_dict(state_dict, strict = False)"
   ]
  },
  {
   "cell_type": "code",
   "execution_count": 86,
   "id": "49e7fb9f",
   "metadata": {
    "cellId": "5zfz451cqrjkowfzet3sgs"
   },
   "outputs": [],
   "source": [
    "from torchvision import transforms\n",
    "transform_train = transforms.Compose([\n",
    "    transforms.Resize([224, 224]),\n",
    "    #transforms.ToTensor(),\n",
    "    transforms.Normalize((0.485, 0.456, 0.406, 0.5), (0.229, 0.224, 0.225, 0.5)),\n",
    "    transforms.RandomRotation(random.randint(0, 180))])"
   ]
  },
  {
   "cell_type": "code",
   "execution_count": 46,
   "id": "9e8e4564",
   "metadata": {
    "cellId": "sztk0c4mdx3ad4vgj4myf"
   },
   "outputs": [],
   "source": [
    "from PIL import Image"
   ]
  },
  {
   "cell_type": "code",
   "execution_count": 48,
   "id": "bea9d8eb",
   "metadata": {
    "cellId": "7irrbyxw95h45wksomkzr"
   },
   "outputs": [],
   "source": [
    "image = Image.open('./datasets/segNet/images/1.jpg')\n",
    "mask = Image.open('./datasets/segNet/mask/1.png')"
   ]
  },
  {
   "cell_type": "code",
   "execution_count": 60,
   "id": "756d946d",
   "metadata": {
    "cellId": "iyta7ceor9ea6e3an64px"
   },
   "outputs": [
    {
     "data": {
      "image/jpeg": "[encoded data removed]",
      "image/png": "[encoded data removed]",
      "text/plain": [
       "<PIL.PngImagePlugin.PngImageFile image mode=L size=276x183>"
      ]
     },
     "execution_count": 60,
     "metadata": {},
     "output_type": "execute_result"
    }
   ],
   "source": [
    "mask"
   ]
  },
  {
   "cell_type": "code",
   "execution_count": 130,
   "id": "fea9e82d",
   "metadata": {
    "cellId": "ouyu507i64wd554l1x18"
   },
   "outputs": [],
   "source": [
    "m = torch.as_tensor(np.array(mask))"
   ]
  },
  {
   "cell_type": "code",
   "execution_count": 131,
   "id": "b0310d98",
   "metadata": {
    "cellId": "vtuhwfchcq7wbten5xm9m"
   },
   "outputs": [
    {
     "data": {
      "text/plain": [
       "tensor(255, dtype=torch.uint8)"
      ]
     },
     "execution_count": 131,
     "metadata": {},
     "output_type": "execute_result"
    }
   ],
   "source": [
    "m.max()"
   ]
  },
  {
   "cell_type": "code",
   "execution_count": 64,
   "id": "d7c40d3a",
   "metadata": {
    "cellId": "4dy3vfcdsqis1whwr0dfy"
   },
   "outputs": [],
   "source": [
    "tr = transforms.ToTensor()"
   ]
  },
  {
   "cell_type": "code",
   "execution_count": 65,
   "id": "9fa400e5",
   "metadata": {
    "cellId": "dyfuq85525uxrww9kjyote"
   },
   "outputs": [],
   "source": [
    "im = tr(image)"
   ]
  },
  {
   "cell_type": "code",
   "execution_count": 66,
   "id": "1507be3d",
   "metadata": {
    "cellId": "p19zcudls5j62hu8gwyv0t"
   },
   "outputs": [],
   "source": [
    "ms = tr(mask)"
   ]
  },
  {
   "cell_type": "code",
   "execution_count": null,
   "id": "7fd4f076",
   "metadata": {
    "cellId": "81ngwhuyuiu1y8a2m2p2y5"
   },
   "outputs": [],
   "source": [
    "transforms.ToTensor(mask)"
   ]
  },
  {
   "cell_type": "code",
   "execution_count": 123,
   "id": "ee28cfbb",
   "metadata": {
    "cellId": "rzadwl1bar8qxs290sloz"
   },
   "outputs": [],
   "source": [
    "ms8 = tr(Image.open('./datasets/segNet/mask/2.png'))"
   ]
  },
  {
   "cell_type": "code",
   "execution_count": 127,
   "id": "70292187",
   "metadata": {
    "cellId": "82kcvp1zccjngpo7h23yz"
   },
   "outputs": [],
   "source": [
    "image8 = tr(Image.open('./datasets/segNet/images/8.jpg'))"
   ]
  },
  {
   "cell_type": "code",
   "execution_count": 128,
   "id": "ea6c2ac4",
   "metadata": {
    "cellId": "6w3155budxoc3diux1h2b"
   },
   "outputs": [
    {
     "data": {
      "text/plain": [
       "tensor(1.)"
      ]
     },
     "execution_count": 128,
     "metadata": {},
     "output_type": "execute_result"
    }
   ],
   "source": [
    "image8.max()"
   ]
  },
  {
   "cell_type": "code",
   "execution_count": 124,
   "id": "63adc9de",
   "metadata": {
    "cellId": "cw1c0cky38sbatkd3wwxv"
   },
   "outputs": [
    {
     "data": {
      "text/plain": [
       "tensor(1.)"
      ]
     },
     "execution_count": 124,
     "metadata": {},
     "output_type": "execute_result"
    }
   ],
   "source": [
    "ms8.max()"
   ]
  },
  {
   "cell_type": "code",
   "execution_count": 68,
   "id": "c0a44ce6",
   "metadata": {
    "cellId": "npbedxcr6fbpaiydptd3p"
   },
   "outputs": [],
   "source": [
    "tmp = transforms.Resize([224, 224])"
   ]
  },
  {
   "cell_type": "code",
   "execution_count": 71,
   "id": "4489cb7a",
   "metadata": {
    "cellId": "g0gl604jpfdltawvrsozla"
   },
   "outputs": [
    {
     "data": {
      "text/plain": [
       "torch.Size([3, 224, 224])"
      ]
     },
     "execution_count": 71,
     "metadata": {},
     "output_type": "execute_result"
    }
   ],
   "source": [
    "tr(tmp(image)).shape"
   ]
  },
  {
   "cell_type": "code",
   "execution_count": 67,
   "id": "bc0241ce",
   "metadata": {
    "cellId": "tgqv1lph41k0n9husap6uih"
   },
   "outputs": [
    {
     "name": "stdout",
     "output_type": "stream",
     "text": [
      "torch.Size([3, 183, 276]) torch.Size([1, 183, 276])\n"
     ]
    }
   ],
   "source": [
    "print(im.shape, ms.shape)"
   ]
  },
  {
   "cell_type": "code",
   "execution_count": 73,
   "id": "f6a71f8f",
   "metadata": {
    "cellId": "gja9s9ad7tw8ypi1w1rnp"
   },
   "outputs": [],
   "source": [
    "im1 = im.unsqueeze(0)"
   ]
  },
  {
   "cell_type": "code",
   "execution_count": 74,
   "id": "7dc491d2",
   "metadata": {
    "cellId": "9v8y36p821qir6s0bvcp4o"
   },
   "outputs": [
    {
     "data": {
      "text/plain": [
       "torch.Size([1, 1, 183, 276])"
      ]
     },
     "execution_count": 74,
     "metadata": {},
     "output_type": "execute_result"
    }
   ],
   "source": [
    "ms1 = ms.unsqueeze(0)\n",
    "ms1.shape"
   ]
  },
  {
   "cell_type": "code",
   "execution_count": null,
   "id": "45d8e5e1",
   "metadata": {
    "cellId": "06q839syyd0liljvixd8c9m"
   },
   "outputs": [],
   "source": [
    "ms"
   ]
  },
  {
   "cell_type": "code",
   "execution_count": 75,
   "id": "11348942",
   "metadata": {
    "cellId": "vfhnljih5vbaloq5z56gjw"
   },
   "outputs": [
    {
     "data": {
      "text/plain": [
       "torch.Size([1, 3, 183, 276])"
      ]
     },
     "execution_count": 75,
     "metadata": {},
     "output_type": "execute_result"
    }
   ],
   "source": [
    "im1.shape"
   ]
  },
  {
   "cell_type": "code",
   "execution_count": 78,
   "id": "4477fef2",
   "metadata": {
    "cellId": "v54nm6q3rtnaz974kisih"
   },
   "outputs": [],
   "source": [
    "both = torch.cat((im, ms), dim = 0)"
   ]
  },
  {
   "cell_type": "code",
   "execution_count": null,
   "id": "3f7120cc",
   "metadata": {
    "cellId": "wcwb83w7tqu9qve4ja3zi"
   },
   "outputs": [],
   "source": [
    "res = transform_train(both)"
   ]
  },
  {
   "cell_type": "code",
   "execution_count": 100,
   "id": "753655ab",
   "metadata": {
    "cellId": "uart4bvbj9nsbkcreyldtp"
   },
   "outputs": [],
   "source": [
    "im2, ms2 = torch.tensor_split(res,[3], dim = 0)"
   ]
  },
  {
   "cell_type": "code",
   "execution_count": 92,
   "id": "52bd5076",
   "metadata": {
    "cellId": "z2bmc7zyyknm6yv6lnjp5"
   },
   "outputs": [],
   "source": [
    "import numpy as np"
   ]
  },
  {
   "cell_type": "code",
   "execution_count": 101,
   "id": "70a65365",
   "metadata": {
    "cellId": "s6u6qp49usgskskxeon38"
   },
   "outputs": [
    {
     "data": {
      "text/plain": [
       "torch.Size([3, 224, 224])"
      ]
     },
     "execution_count": 101,
     "metadata": {},
     "output_type": "execute_result"
    }
   ],
   "source": [
    "im2.shape"
   ]
  },
  {
   "cell_type": "code",
   "execution_count": 113,
   "id": "bc1ecce2",
   "metadata": {
    "cellId": "cu0b35rb7jc9ydldidkmyq"
   },
   "outputs": [],
   "source": [
    "def conv_to_img(tensor: torch.tensor) -> np.array:\n",
    "    \"\"\"Convert image to display by pyplot.\"\"\"\n",
    "    img = tensor.to('cpu').clone().detach()\n",
    "    img = img.numpy().squeeze()\n",
    "    #img = img.transpose(1, 2, 0)\n",
    "    #img = img * np.array((0.229, 0.224, 0.225)) + np.array((0.485, 0.456, 0.406))\n",
    "    img = img.clip(0, 1)\n",
    "    return img\n"
   ]
  },
  {
   "cell_type": "code",
   "execution_count": 105,
   "id": "07f2a7a2",
   "metadata": {
    "cellId": "e50tmgsse9pnv8wvalzpb9"
   },
   "outputs": [],
   "source": [
    "pic = conv_to_img(im2)"
   ]
  },
  {
   "cell_type": "code",
   "execution_count": 114,
   "id": "3d9591f0",
   "metadata": {
    "cellId": "64g4ctvc1a6n6mgwaapcx"
   },
   "outputs": [],
   "source": [
    "picm = conv_to_img(ms2)"
   ]
  },
  {
   "cell_type": "code",
   "execution_count": 108,
   "id": "44e179d5",
   "metadata": {
    "cellId": "4ccdw45p4hy46emb472qoy"
   },
   "outputs": [],
   "source": [
    "import matplotlib.pyplot as plt"
   ]
  },
  {
   "cell_type": "code",
   "execution_count": 109,
   "id": "65645cf9",
   "metadata": {
    "cellId": "3xk9wrsqfuui5tcx3hsr5"
   },
   "outputs": [
    {
     "data": {
      "text/plain": [
       "<matplotlib.image.AxesImage at 0x7f586f7c6380>"
      ]
     },
     "execution_count": 109,
     "metadata": {},
     "output_type": "execute_result"
    },
    {
     "data": {
      "image/png": "[encoded data removed]",
      "text/plain": [
       "<Figure size 432x288 with 1 Axes>"
      ]
     },
     "metadata": {
      "needs_background": "light"
     },
     "output_type": "display_data"
    }
   ],
   "source": [
    "plt.imshow(pic)"
   ]
  },
  {
   "cell_type": "code",
   "execution_count": 116,
   "id": "923bf792",
   "metadata": {
    "cellId": "6pxtdr6jdwi2q9wil026t3"
   },
   "outputs": [
    {
     "data": {
      "text/plain": [
       "<matplotlib.image.AxesImage at 0x7f586d2ee020>"
      ]
     },
     "execution_count": 116,
     "metadata": {},
     "output_type": "execute_result"
    },
    {
     "data": {
      "image/png": "[encoded data removed]",
      "text/plain": [
       "<Figure size 432x288 with 1 Axes>"
      ]
     },
     "metadata": {
      "needs_background": "light"
     },
     "output_type": "display_data"
    }
   ],
   "source": [
    "plt.imshow(picm)"
   ]
  },
  {
   "cell_type": "code",
   "execution_count": 121,
   "id": "610e26df",
   "metadata": {
    "cellId": "aaex773qzoj36uy13wyqqd"
   },
   "outputs": [
    {
     "data": {
      "text/plain": [
       "tensor(1.)"
      ]
     },
     "execution_count": 121,
     "metadata": {},
     "output_type": "execute_result"
    }
   ],
   "source": [
    "ms2.max()"
   ]
  },
  {
   "cell_type": "code",
   "execution_count": null,
   "id": "95540e18",
   "metadata": {
    "cellId": "h1uezv7wuodo77jhwvuek"
   },
   "outputs": [],
   "source": [
    "transform_train(image, mask)"
   ]
  },
  {
   "cell_type": "code",
   "execution_count": null,
   "id": "d44ab07e",
   "metadata": {
    "cellId": "pnbfa8jymz9zjpbqyyngwd"
   },
   "outputs": [],
   "source": []
  },
  {
   "cell_type": "code",
   "execution_count": 54,
   "id": "3cdc1785",
   "metadata": {
    "cellId": "4b1fp705dtoz724mhszwmk"
   },
   "outputs": [
    {
     "data": {
      "text/plain": [
       "'0.15.2+cu118'"
      ]
     },
     "execution_count": 54,
     "metadata": {},
     "output_type": "execute_result"
    }
   ],
   "source": [
    "import torchvision\n",
    "torchvision.__version__"
   ]
  },
  {
   "cell_type": "code",
   "execution_count": null,
   "id": "2e88c3d6",
   "metadata": {
    "cellId": "8jppva2b5ticnuk1ss8vo7"
   },
   "outputs": [],
   "source": [
    "from torchvision.transforms import v2"
   ]
  },
  {
   "cell_type": "code",
   "execution_count": null,
   "id": "b82f140a",
   "metadata": {
    "cellId": "f4u8u9apixjuhh9u6do3ds"
   },
   "outputs": [],
   "source": []
  }
 ],
 "metadata": {
  "language_info": {
   "codemirror_mode": {
    "name": "ipython",
    "version": 3
   },
   "file_extension": ".py",
   "mimetype": "text/x-python",
   "name": "python",
   "nbconvert_exporter": "python",
   "pygments_lexer": "ipython3",
   "version": "3.7.7"
  },
  "notebookId": "eb320824-5ab6-49d0-a786-16d3c9d98f06",
  "notebookPath": "figureExtraction/supportFunctions.ipynb"
 },
 "nbformat": 4,
 "nbformat_minor": 5
}
