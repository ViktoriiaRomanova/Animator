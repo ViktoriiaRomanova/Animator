{
  "nbformat" : 4,
  "nbformat_minor" : 5,
  "metadata" : {
    "notebookPath" : "figureExtraction/getDataSet.ipynb",
    "language_info" : {
      "codemirror_mode" : {
        "name" : "ipython",
        "version" : 3
      },
      "file_extension" : ".py",
      "mimetype" : "text/x-python",
      "name" : "python",
      "nbconvert_exporter" : "python",
      "pygments_lexer" : "ipython3",
      "version" : "3.7.7"
    },
    "notebookId" : "d9deed63-0372-46f9-83a1-f6bcd0527532",
    "colab" : {
      "provenance" : [ ]
    },
    "kernelspec" : {
      "name" : "python3",
      "description" : "IPython kernel implementation for DataSphere",
      "spec" : {
        "language" : "python",
        "display_name" : "DataSphere Kernel",
        "codemirror_mode" : "python",
        "argv" : [ "/bin/true" ],
        "env" : { },
        "help_links" : [ ],
        "metadata" : {
          "app" : "YANDEX_DATASPHERE"
        }
      },
      "resources" : { },
      "display_name" : "DataSphere Kernel"
    }
  },
  "cells" : [ {
    "cell_type" : "markdown",
    "source" : [ "# Get DataSet" ],
    "metadata" : {
      "execution_id" : "5f8aabd6-dcc5-484c-9984-77e8bda80263",
      "id" : "561ddcfc",
      "cellId" : "o7v5uh5twai7s7fs7iifc"
    },
    "id" : "c34aaeb5"
  }, {
    "cell_type" : "code",
    "source" : [ "%pip install kaggle" ],
    "metadata" : {
      "cellId" : "bsmb1x448sgw80cdpplvi",
      "id" : "f6b613db"
    },
    "outputs" : [ ],
    "execution_count" : null,
    "id" : "a2cd0e4e"
  }, {
    "cell_type" : "code",
    "source" : [ "#pragma dataset init Segmentation --size 16Gb\n", "\n", "import kaggle\n", "\n", "dest_dir = '/home/jupyter/mnt/datasets/Segmentation'\n", "\n", "kaggle.api.dataset_download_files('furkankati/person-Segmentation-dataset', path = dest_dir, unzip = True)" ],
    "metadata" : {
      "cellId" : "9g7kzo0blfooos58f3r57t",
      "id" : "0eb37e82"
    },
    "outputs" : [ {
      "name" : "stdout",
      "output_type" : "stream",
      "text" : [ "Background cell scheduled. Waiting for foreground cells to finish commits\n", "Preparing c1.4 instance...\n", "c1.4 instance is ready, running task...\n", "Mounting dataset Segmentation... /home/jupyter/mnt/datasets/Segmentation\n", "Task is done, waiting for foreground cells to finish...\n", "It's init dataset task. State result won't be merged.\n" ]
    } ],
    "execution_count" : 10,
    "id" : "9d892041"
  }, {
    "cell_type" : "code",
    "source" : [ "!ls /home/jupyter/mnt/datasets/Segmentation/" ],
    "metadata" : {
      "id" : "58dd96e0",
      "scrolled" : true,
      "cellId" : "azsiy9gyz059txuwxipu2o"
    },
    "outputs" : [ ],
    "execution_count" : null,
    "id" : "7aeb2515"
  }, {
    "cell_type" : "code",
    "source" : [ ],
    "metadata" : {
      "cellId" : "aizjfvm86n7o386ucuhk2"
    },
    "outputs" : [ ],
    "execution_count" : null,
    "id" : "3b8d5bcf"
  } ]
}