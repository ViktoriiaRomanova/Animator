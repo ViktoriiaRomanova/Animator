{
 "cells": [
  {
   "cell_type": "markdown",
   "id": "10234a8d",
   "metadata": {
    "cellId": "9uu8z469ki5jud73yiza3p",
    "execution_id": "f09b1887-324f-46ce-a088-e38e88585c8b",
    "id": "17635d7a"
   },
   "source": [
    "## Setting up parallel training on N GPU/CPU"
   ]
  },
  {
   "cell_type": "code",
   "execution_count": null,
   "id": "77f0a0ec",
   "metadata": {
    "cellId": "j4vshj5sf6rn1bnm71c2i",
    "id": "0a858325"
   },
   "outputs": [],
   "source": [
    "#!g1.2 #noqa\n",
    "import sys\n",
    "\n",
    "import torch\n",
    "import torch.multiprocessing as mp"
   ]
  },
  {
   "cell_type": "code",
   "execution_count": null,
   "id": "e0eed6ee",
   "metadata": {
    "cellId": "q8igkwc5f8bavvj03ksma",
    "id": "55e903f2"
   },
   "outputs": [],
   "source": [
    "#!g1.2 #noqa\n",
    "sys.path.append('/home/jupyter/work/resources/')"
   ]
  },
  {
   "cell_type": "code",
   "execution_count": null,
   "id": "c37e039d",
   "metadata": {
    "cellId": "di2fdso4gl4544khp453t"
   },
   "outputs": [],
   "source": [
    "#!g1.2 #noqa\n",
    "from processingDataSet import MaskDataset, PreprocessingData, get_not_RGB_pic"
   ]
  },
  {
   "cell_type": "code",
   "execution_count": null,
   "id": "8e8a0d6d",
   "metadata": {
    "cellId": "ugpvai8wbmcratgzx9dafk"
   },
   "outputs": [],
   "source": [
    "#!g1.2 #noqa\n",
    "random_state = 10"
   ]
  },
  {
   "cell_type": "code",
   "execution_count": null,
   "id": "d464ea5c",
   "metadata": {
    "cellId": "36ji0co2qrcmscmc99ugmd"
   },
   "outputs": [],
   "source": [
    "#!g1.2 #noqa\n",
    "data_path = '/home/jupyter/mnt/datasets/Segmentation/Training'\n",
    "prData = PreprocessingData()\n",
    "train_data, val_data = prData.get_data(data_path, random_state)"
   ]
  },
  {
   "cell_type": "code",
   "execution_count": null,
   "id": "071882c0",
   "metadata": {
    "cellId": "6kx9yph0m05jb8tk0sk0m9",
    "id": "db18433e"
   },
   "outputs": [],
   "source": [
    "#!g1.2 #noqa\n",
    "print('Train data size: ', len(train_data), 'Validation data size: ', len(val_data))"
   ]
  },
  {
   "cell_type": "code",
   "execution_count": null,
   "id": "38e78816",
   "metadata": {
    "cellId": "wg3eikwjg5azh9vwqoqezm",
    "id": "3c951f40"
   },
   "outputs": [],
   "source": [
    "#!g1.2\n",
    "from distLearningFunc import worker\n",
    "\n",
    "world_size = 2  # Number of GPU\n",
    "batch_size = 128\n",
    "seed = random_state\n",
    "epochs = 2\n",
    "\n",
    "mp.spawn(worker, args = (world_size, train_data, val_data, batch_size, seed, epochs),\n",
    "         nprocs = world_size)"
   ]
  },
  {
   "cell_type": "code",
   "execution_count": null,
   "id": "e746054f",
   "metadata": {
    "cellId": "u4lp6qjnt51igf35bld5j",
    "id": "ea4175f6"
   },
   "outputs": [],
   "source": [
    "#!g1.2 #noqa\n",
    "'''\n",
    "    Warning from torch.multiprossesing.spawn:\n",
    "\n",
    "    If the main process exits abruptly (e.g. because of an incoming signal),\n",
    "    Python’s multiprocessing sometimes fails to clean up its children.\n",
    "    It’s a known caveat, so if you’re seeing any resource leaks after interrupting the interpreter,\n",
    "    it probably means that this has just happened to you.\n",
    "    https://pytorch.org/docs/stable/multiprocessing.html\n",
    "'''\n",
    "# To fix that problem, find the PID of this proсess(es)\n",
    "# (depends on how many workers were started) and kill them.\n",
    "!ps -fe | grep multiprocessing.spawn"
   ]
  },
  {
   "cell_type": "code",
   "execution_count": null,
   "id": "5ea57230",
   "metadata": {
    "cellId": "90i7wpt6d0v3p926j55sg2",
    "id": "70f3f7cf"
   },
   "outputs": [],
   "source": [
    "#!g1.2 #noqa\n",
    "!kill 4159"
   ]
  },
  {
   "cell_type": "code",
   "execution_count": null,
   "id": "544ec6f7",
   "metadata": {
    "cellId": "32lexgusx0w3qhtfwn73vt"
   },
   "outputs": [],
   "source": [
    "#!g1.2\n",
    "!ls ./models/checkpoints"
   ]
  },
  {
   "cell_type": "code",
   "execution_count": null,
   "id": "a9fb40f1",
   "metadata": {
    "cellId": "3kxy9e9ol7b09f01j9np9e8",
    "id": "530ea935"
   },
   "outputs": [],
   "source": [
    "#!g1.2 #noqa\n",
    "trained_state_dict = torch.load('/home/jupyter/work/resources/figureExtraction/models/checkpoints/2024_01_19_13_50_48.pt')"
   ]
  },
  {
   "cell_type": "code",
   "execution_count": null,
   "id": "20394d6a",
   "metadata": {
    "cellId": "uvb0etdhj1w0x49lncs4"
   },
   "outputs": [],
   "source": [
    "#!g1.2\n",
    "trained_state_dict.keys()"
   ]
  },
  {
   "cell_type": "code",
   "execution_count": null,
   "id": "2ee4f61a",
   "metadata": {
    "cellId": "ttzd3y8vqfpjdndsrewz"
   },
   "outputs": [],
   "source": [
    "#!g1.2\n",
    "model_trained = SegNet()\n",
    "model_trained.load_state_dict(trained_state_dict)"
   ]
  },
  {
   "cell_type": "code",
   "execution_count": null,
   "id": "c2534dbe",
   "metadata": {
    "cellId": "hzpep3o2rxr766knx2w5t2"
   },
   "outputs": [],
   "source": [
    "#!g1.2\n",
    "test_set = MaskDataset(data_path, val_data)"
   ]
  },
  {
   "cell_type": "code",
   "execution_count": null,
   "id": "7e0161d9",
   "metadata": {
    "cellId": "bu733vfzmanyhq9at2l1r"
   },
   "outputs": [],
   "source": [
    "#!g1.2\n",
    "from torchvision import io"
   ]
  },
  {
   "cell_type": "code",
   "execution_count": null,
   "id": "daa57962",
   "metadata": {
    "cellId": "1xi4csp390ig7cqx6attgs"
   },
   "outputs": [],
   "source": [
    "#!g1.2\n",
    "img_path = '/home/jupyter/work/resources/figureExtraction/datasets/segNet/input/227.jpg'\n",
    "mask_path = '/home/jupyter/work/resources/figureExtraction/datasets/segNet/Output/227.png'\n",
    "image = io.read_image(img_path)\n",
    "mask = io.read_image(mask_path)\n",
    "norm = transforms.Normalize((0.485, 0.456, 0.406), (0.229, 0.224, 0.225))\n",
    "to_resized_tensor = transforms.Compose([\n",
    "            transforms.Resize([224, 224], antialias=True)])\n",
    "image = norm(to_resized_tensor(image).div(255))\n",
    "mask = to_resized_tensor(mask).div(255)"
   ]
  },
  {
   "cell_type": "code",
   "execution_count": null,
   "id": "033a750d",
   "metadata": {
    "cellId": "1t90zy2tc06y3ue0m6w01p"
   },
   "outputs": [],
   "source": [
    "#!g1.2\n",
    "#y = model_trained(test_set[0][0].unsqueeze(0))\n",
    "y = model_trained(image.unsqueeze(0))"
   ]
  },
  {
   "cell_type": "code",
   "execution_count": null,
   "id": "8d5ee7b5",
   "metadata": {
    "cellId": "b5vl2j69g2a5toh2okvkuy"
   },
   "outputs": [],
   "source": [
    "#!g1.2\n",
    "from matplotlib import pyplot as plt"
   ]
  },
  {
   "cell_type": "code",
   "execution_count": null,
   "id": "7c35d158",
   "metadata": {
    "cellId": "thagpoayb96avydsq9mq8"
   },
   "outputs": [],
   "source": [
    "#!g1.2\n",
    "y.shape"
   ]
  },
  {
   "cell_type": "code",
   "execution_count": null,
   "id": "2168e5b6",
   "metadata": {
    "cellId": "n1u0gg7fmgg92xq7nio2m"
   },
   "outputs": [],
   "source": [
    "#!g1.2\n",
    "import numpy as np\n",
    "def conv_to_img(tensor: torch.tensor) -> np.array:\n",
    "    \"\"\"Convert image to display by pyplot.\"\"\"\n",
    "    img = tensor.to('cpu').clone().detach()\n",
    "    img = img.numpy().squeeze()\n",
    "    img = img.clip(0, 1)\n",
    "    return img"
   ]
  },
  {
   "cell_type": "code",
   "execution_count": null,
   "id": "372fee40",
   "metadata": {
    "cellId": "sdz91d9jthmaoz6nk6fq7p"
   },
   "outputs": [],
   "source": [
    "#!g1.2\n",
    "res = conv_to_img(y)"
   ]
  },
  {
   "cell_type": "code",
   "execution_count": null,
   "id": "aa3f72c7",
   "metadata": {
    "cellId": "5t422p7vw1mf5nzi09n8s"
   },
   "outputs": [],
   "source": [
    "#!g1.2\n",
    "def conv_to_img1(tensor: torch.tensor) -> np.array:\n",
    "    \"\"\"Convert image to display by pyplot.\"\"\"\n",
    "    img = tensor.to('cpu').clone().detach()\n",
    "    img = img.numpy().squeeze()\n",
    "    img = img.transpose(1, 2, 0)\n",
    "    img = img * np.array((0.229, 0.224, 0.225)) + np.array((0.485, 0.456, 0.406))\n",
    "    img = img.clip(0, 1)\n",
    "    return img"
   ]
  },
  {
   "cell_type": "code",
   "execution_count": null,
   "id": "4d795778",
   "metadata": {
    "cellId": "utrkyxqqebq8lmjhxhexzl"
   },
   "outputs": [],
   "source": [
    "#!g1.2\n",
    "test_set[1][0].shape"
   ]
  },
  {
   "cell_type": "code",
   "execution_count": null,
   "id": "b5392283",
   "metadata": {
    "cellId": "rce476lkpsbvwa7sc31do"
   },
   "outputs": [],
   "source": [
    "#!g1.2\n",
    "plt.imshow(conv_to_img1(test_set[0][0]))"
   ]
  },
  {
   "cell_type": "code",
   "execution_count": null,
   "id": "e366c6d1",
   "metadata": {
    "cellId": "j1n3leznofiy71taok8bq"
   },
   "outputs": [],
   "source": [
    "#!g1.2\n",
    "plt.imshow(res)"
   ]
  },
  {
   "cell_type": "code",
   "execution_count": null,
   "id": "70d68047",
   "metadata": {
    "cellId": "k5l038o1cdiwszk6paqv"
   },
   "outputs": [],
   "source": [
    "#!g1.2\n"
   ]
  },
  {
   "cell_type": "code",
   "execution_count": null,
   "id": "7669d6b1",
   "metadata": {
    "cellId": "m5ud01c359xun2fseykpn"
   },
   "outputs": [],
   "source": [
    "#!g1.2\n",
    "plt.imshow(conv_to_img(mask))"
   ]
  },
  {
   "cell_type": "raw",
   "id": "8240ee35",
   "metadata": {
    "cellId": "h581yo7wuutlbw1xxdrur"
   },
   "source": [
    "#!g1.2\n"
   ]
  }
 ],
 "metadata": {
  "colab": {
   "provenance": []
  },
  "language_info": {
   "codemirror_mode": {
    "name": "ipython",
    "version": 3
   },
   "file_extension": ".py",
   "mimetype": "text/x-python",
   "name": "python",
   "nbconvert_exporter": "python",
   "pygments_lexer": "ipython3",
   "version": "3.7.7"
  },
  "notebookId": "c2939a09-c1ae-44e2-a0e6-d5f348f7d02f",
  "notebookPath": "figureExtraction/trainDistributedDataParallel.ipynb"
 },
 "nbformat": 4,
 "nbformat_minor": 5
}
