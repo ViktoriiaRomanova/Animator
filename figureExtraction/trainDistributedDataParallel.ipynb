{
 "cells": [
  {
   "cell_type": "markdown",
   "id": "e1cdf85e",
   "metadata": {
    "cellId": "9uu8z469ki5jud73yiza3p",
    "execution_id": "f09b1887-324f-46ce-a088-e38e88585c8b",
    "id": "17635d7a"
   },
   "source": [
    "## Setting up parallel training on N GPU/CPU"
   ]
  },
  {
   "cell_type": "code",
   "execution_count": 1,
   "id": "acc9cce5",
   "metadata": {
    "cellId": "j4vshj5sf6rn1bnm71c2i",
    "execution": {
     "iopub.execute_input": "2024-02-29T15:32:21.497458426Z",
     "iopub.status.busy": "2024-02-29T15:32:22.518882Z",
     "iopub.status.idle": "2024-02-29T15:32:24.023227Z",
     "shell.execute_reply": "2024-02-29T15:32:24.022267Z",
     "shell.execute_reply.started": "2024-02-29T15:32:22.519587Z"
    },
    "id": "0a858325"
   },
   "outputs": [],
   "source": [
    "#!g1.2 #noqa\n",
    "import sys\n",
    "\n",
    "import torch\n",
    "import torch.multiprocessing as mp"
   ]
  },
  {
   "cell_type": "code",
   "execution_count": 2,
   "id": "fe762270",
   "metadata": {
    "cellId": "q8igkwc5f8bavvj03ksma",
    "execution": {
     "iopub.execute_input": "2024-02-29T15:32:21.990000894Z",
     "iopub.status.busy": "2024-02-29T15:32:24.711409Z",
     "iopub.status.idle": "2024-02-29T15:32:24.727405Z",
     "shell.execute_reply": "2024-02-29T15:32:24.726486Z",
     "shell.execute_reply.started": "2024-02-29T15:32:24.712120Z"
    },
    "id": "55e903f2"
   },
   "outputs": [],
   "source": [
    "#!g1.2 #noqa\n",
    "sys.path.append('/home/jupyter/work/resources/')"
   ]
  },
  {
   "cell_type": "code",
   "execution_count": 3,
   "id": "c966f7fe",
   "metadata": {
    "cellId": "di2fdso4gl4544khp453t",
    "execution": {
     "iopub.execute_input": "2024-02-29T15:32:22.481628363Z",
     "iopub.status.busy": "2024-02-29T15:32:25.434483Z",
     "iopub.status.idle": "2024-02-29T15:32:25.967065Z",
     "shell.execute_reply": "2024-02-29T15:32:25.966038Z",
     "shell.execute_reply.started": "2024-02-29T15:32:25.435240Z"
    }
   },
   "outputs": [],
   "source": [
    "#!g1.2 #noqa\n",
    "from processingDataSet import MaskDataset, PreprocessingData, get_not_RGB_pic"
   ]
  },
  {
   "cell_type": "code",
   "execution_count": 4,
   "id": "70cb0d05",
   "metadata": {
    "cellId": "ugpvai8wbmcratgzx9dafk",
    "execution": {
     "iopub.execute_input": "2024-02-29T15:32:23.036231332Z",
     "iopub.status.busy": "2024-02-29T15:32:26.714690Z",
     "iopub.status.idle": "2024-02-29T15:32:26.758480Z",
     "shell.execute_reply": "2024-02-29T15:32:26.757549Z",
     "shell.execute_reply.started": "2024-02-29T15:32:26.715454Z"
    }
   },
   "outputs": [],
   "source": [
    "#!g1.2 #noqa\n",
    "random_state = 10"
   ]
  },
  {
   "cell_type": "code",
   "execution_count": 5,
   "id": "728e99d1",
   "metadata": {
    "cellId": "36ji0co2qrcmscmc99ugmd",
    "execution": {
     "iopub.execute_input": "2024-02-29T15:32:23.523819946Z",
     "iopub.status.busy": "2024-02-29T15:32:27.506474Z",
     "iopub.status.idle": "2024-02-29T15:32:27.663950Z",
     "shell.execute_reply": "2024-02-29T15:32:27.663113Z",
     "shell.execute_reply.started": "2024-02-29T15:32:27.507528Z"
    }
   },
   "outputs": [],
   "source": [
    "#!g1.2 #noqa\n",
    "data_path = '/home/jupyter/mnt/datasets/Segmentation/Training'\n",
    "prData = PreprocessingData(0.9)\n",
    "train_data, val_data = prData.get_data(data_path, random_state)"
   ]
  },
  {
   "cell_type": "code",
   "execution_count": 6,
   "id": "f36dc79b",
   "metadata": {
    "cellId": "6kx9yph0m05jb8tk0sk0m9",
    "execution": {
     "iopub.execute_input": "2024-02-29T15:32:24.009636472Z",
     "iopub.status.busy": "2024-02-29T15:32:28.390931Z",
     "iopub.status.idle": "2024-02-29T15:32:28.414206Z",
     "shell.execute_reply": "2024-02-29T15:32:28.413435Z",
     "shell.execute_reply.started": "2024-02-29T15:32:28.391768Z"
    },
    "id": "db18433e"
   },
   "outputs": [],
   "source": [
    "#!g1.2 #noqa\n",
    "print('Train data size: ', len(train_data), 'Validation data size: ', len(val_data))"
   ]
  },
  {
   "cell_type": "code",
   "execution_count": 7,
   "id": "79a791bc",
   "metadata": {
    "cellId": "wg3eikwjg5azh9vwqoqezm",
    "execution": {
     "iopub.execute_input": "2024-02-29T15:32:24.490618566Z",
     "iopub.status.busy": "2024-02-29T15:32:29.381704Z",
     "iopub.status.idle": "2024-02-29T15:36:09.063371Z",
     "shell.execute_reply": "2024-02-29T15:36:09.061772Z",
     "shell.execute_reply.started": "2024-02-29T15:32:29.382478Z"
    },
    "id": "3c951f40"
   },
   "outputs": [],
   "source": [
    "#!g1.2\n",
    "from distLearningFunc import worker\n",
    "\n",
    "world_size = 2  # Number of GPU\n",
    "batch_size = 64\n",
    "seed = random_state\n",
    "epochs = 1\n",
    "\n",
    "mp.spawn(worker, args = (world_size, train_data, val_data, batch_size, seed, epochs),\n",
    "         nprocs = world_size)"
   ]
  },
  {
   "cell_type": "code",
   "execution_count": null,
   "id": "ac01af63",
   "metadata": {
    "cellId": "u4lp6qjnt51igf35bld5j",
    "id": "ea4175f6"
   },
   "outputs": [],
   "source": [
    "#!g1.2 #noqa\n",
    "'''\n",
    "    Warning from torch.multiprossesing.spawn:\n",
    "\n",
    "    If the main process exits abruptly (e.g. because of an incoming signal),\n",
    "    Python’s multiprocessing sometimes fails to clean up its children.\n",
    "    It’s a known caveat, so if you’re seeing any resource leaks after interrupting the interpreter,\n",
    "    it probably means that this has just happened to you.\n",
    "    https://pytorch.org/docs/stable/multiprocessing.html\n",
    "'''\n",
    "# To fix that problem, find the PID of this proсess(es)\n",
    "# (depends on how many workers were started) and kill them.\n",
    "!ps -fe | grep multiprocessing.spawn"
   ]
  },
  {
   "cell_type": "code",
   "execution_count": null,
   "id": "01f0d705",
   "metadata": {
    "cellId": "90i7wpt6d0v3p926j55sg2",
    "id": "70f3f7cf"
   },
   "outputs": [],
   "source": [
    "#!g1.2 #noqa\n",
    "!kill 4159"
   ]
  },
  {
   "cell_type": "code",
   "execution_count": null,
   "id": "1b8202c5",
   "metadata": {
    "cellId": "32lexgusx0w3qhtfwn73vt"
   },
   "outputs": [],
   "source": [
    "#!g1.2\n",
    "!ls ./models/checkpoints"
   ]
  },
  {
   "cell_type": "code",
   "execution_count": 38,
   "id": "7803a133",
   "metadata": {
    "cellId": "3kxy9e9ol7b09f01j9np9e8",
    "execution": {
     "iopub.execute_input": "2024-02-27T15:33:07.143497800Z",
     "iopub.status.busy": "2024-02-27T15:33:08.180611Z",
     "iopub.status.idle": "2024-02-27T15:33:08.958489Z",
     "shell.execute_reply": "2024-02-27T15:33:08.957648Z",
     "shell.execute_reply.started": "2024-02-27T15:33:08.181354Z"
    },
    "id": "530ea935"
   },
   "outputs": [],
   "source": [
    "#!g1.2 #noqa\n",
    "trained_state_dict = torch.load('/home/jupyter/work/resources/figureExtraction/train_checkpoints/2024_02_27_15_26_28.pt')"
   ]
  },
  {
   "cell_type": "code",
   "execution_count": null,
   "id": "cdb60e85",
   "metadata": {
    "cellId": "uvb0etdhj1w0x49lncs4"
   },
   "outputs": [],
   "source": [
    "#!g1.2\n",
    "trained_state_dict.keys()"
   ]
  },
  {
   "cell_type": "code",
   "execution_count": 39,
   "id": "6e079ec8",
   "metadata": {
    "cellId": "ttzd3y8vqfpjdndsrewz",
    "execution": {
     "iopub.execute_input": "2024-02-27T15:33:34.586283551Z",
     "iopub.status.busy": "2024-02-27T15:33:35.629423Z",
     "iopub.status.idle": "2024-02-27T15:33:35.990513Z",
     "shell.execute_reply": "2024-02-27T15:33:35.989318Z",
     "shell.execute_reply.started": "2024-02-27T15:33:35.630345Z"
    }
   },
   "outputs": [],
   "source": [
    "#!g1.2\n",
    "from UNetModel import UNet\n",
    "model_trained = UNet()\n",
    "model_trained.load_state_dict(trained_state_dict)"
   ]
  },
  {
   "cell_type": "code",
   "execution_count": 10,
   "id": "9bace283",
   "metadata": {
    "cellId": "hzpep3o2rxr766knx2w5t2"
   },
   "outputs": [],
   "source": [
    "#!g1.2\n",
    "test_set = MaskDataset(data_path, val_data)"
   ]
  },
  {
   "cell_type": "code",
   "execution_count": 11,
   "id": "17058c49",
   "metadata": {
    "cellId": "bu733vfzmanyhq9at2l1r"
   },
   "outputs": [],
   "source": [
    "#!g1.2\n",
    "from torchvision import io"
   ]
  },
  {
   "cell_type": "code",
   "execution_count": 63,
   "id": "f873dfb8",
   "metadata": {
    "cellId": "1xi4csp390ig7cqx6attgs"
   },
   "outputs": [],
   "source": [
    "#!g1.2\n",
    "img_path = '/home/jupyter/work/resources/figureExtraction/datasets/segNet/input/227.jpg'\n",
    "mask_path = '/home/jupyter/work/resources/figureExtraction/datasets/segNet/Output/227.png'\n",
    "image = io.read_image(img_path)\n",
    "mask = io.read_image(mask_path)\n",
    "norm = transforms.Normalize((0.485, 0.456, 0.406), (0.229, 0.224, 0.225))\n",
    "to_resized_tensor = transforms.Compose([\n",
    "            transforms.Resize([224, 224], antialias=True)])\n",
    "image = norm(to_resized_tensor(image).div(255))\n",
    "mask = to_resized_tensor(mask).div(255)"
   ]
  },
  {
   "cell_type": "code",
   "execution_count": 64,
   "id": "a0c29f3a",
   "metadata": {
    "cellId": "1t90zy2tc06y3ue0m6w01p"
   },
   "outputs": [],
   "source": [
    "#!g1.2\n",
    "#y = model_trained(test_set[0][0].unsqueeze(0))\n",
    "y = model_trained(image.unsqueeze(0))"
   ]
  },
  {
   "cell_type": "code",
   "execution_count": 51,
   "id": "5679be09",
   "metadata": {
    "cellId": "b5vl2j69g2a5toh2okvkuy",
    "execution": {
     "iopub.execute_input": "2024-02-16T16:18:54.038742903Z",
     "iopub.status.busy": "2024-02-16T16:18:55.036855Z",
     "iopub.status.idle": "2024-02-16T16:18:55.050555Z",
     "shell.execute_reply": "2024-02-16T16:18:55.049796Z",
     "shell.execute_reply.started": "2024-02-16T16:18:55.037699Z"
    }
   },
   "outputs": [],
   "source": [
    "#!g1.2\n",
    "from matplotlib import pyplot as plt\n",
    "import numpy as np"
   ]
  },
  {
   "cell_type": "code",
   "execution_count": 52,
   "id": "8bc7082d",
   "metadata": {
    "cellId": "thagpoayb96avydsq9mq8"
   },
   "outputs": [],
   "source": [
    "#!g1.2\n",
    "y.shape"
   ]
  },
  {
   "cell_type": "code",
   "execution_count": 53,
   "id": "0c95c6f5",
   "metadata": {
    "cellId": "n1u0gg7fmgg92xq7nio2m",
    "execution": {
     "iopub.execute_input": "2024-02-16T16:18:59.299720683Z",
     "iopub.status.busy": "2024-02-16T16:19:00.251158Z",
     "iopub.status.idle": "2024-02-16T16:19:00.295235Z",
     "shell.execute_reply": "2024-02-16T16:19:00.294372Z",
     "shell.execute_reply.started": "2024-02-16T16:19:00.251869Z"
    }
   },
   "outputs": [],
   "source": [
    "#!g1.2\n",
    "import numpy as np\n",
    "def conv_to_img(tensor: torch.tensor) -> np.array:\n",
    "    \"\"\"Convert image to display by pyplot.\"\"\"\n",
    "    img = tensor.to('cpu').clone().detach()\n",
    "    img = img.numpy().squeeze()\n",
    "    img = img.clip(0, 1)\n",
    "    return img"
   ]
  },
  {
   "cell_type": "code",
   "execution_count": 65,
   "id": "40361935",
   "metadata": {
    "cellId": "sdz91d9jthmaoz6nk6fq7p"
   },
   "outputs": [],
   "source": [
    "#!g1.2\n",
    "res = conv_to_img(y)"
   ]
  },
  {
   "cell_type": "code",
   "execution_count": 45,
   "id": "baf880db",
   "metadata": {
    "cellId": "5t422p7vw1mf5nzi09n8s",
    "execution": {
     "iopub.execute_input": "2024-02-16T16:19:01.315298019Z",
     "iopub.status.busy": "2024-02-16T16:19:02.244965Z",
     "iopub.status.idle": "2024-02-16T16:19:02.270703Z",
     "shell.execute_reply": "2024-02-16T16:19:02.269934Z",
     "shell.execute_reply.started": "2024-02-16T16:19:02.245695Z"
    }
   },
   "outputs": [],
   "source": [
    "#!g1.2\n",
    "def conv_to_img1(tensor: torch.tensor) -> np.array:\n",
    "    \"\"\"Convert image to display by pyplot.\"\"\"\n",
    "    img = tensor.to('cpu').clone().detach()\n",
    "    img = img.numpy().squeeze()\n",
    "    img = img.transpose(1, 2, 0)\n",
    "    img = img * np.array((0.229, 0.224, 0.225)) + np.array((0.485, 0.456, 0.406))\n",
    "    img = img.clip(0, 1)\n",
    "    return img"
   ]
  },
  {
   "cell_type": "code",
   "execution_count": null,
   "id": "7854d1b5",
   "metadata": {
    "cellId": "utrkyxqqebq8lmjhxhexzl"
   },
   "outputs": [],
   "source": [
    "#!g1.2\n",
    "test_set[1][0].shape"
   ]
  },
  {
   "cell_type": "code",
   "execution_count": 66,
   "id": "286e050a",
   "metadata": {
    "cellId": "rce476lkpsbvwa7sc31do"
   },
   "outputs": [],
   "source": [
    "#!g1.2\n",
    "plt.imshow(conv_to_img1(test_set[0][0]))"
   ]
  },
  {
   "cell_type": "code",
   "execution_count": 67,
   "id": "72da1a50",
   "metadata": {
    "cellId": "j1n3leznofiy71taok8bq"
   },
   "outputs": [],
   "source": [
    "#!g1.2\n",
    "plt.imshow(res)"
   ]
  },
  {
   "cell_type": "code",
   "execution_count": null,
   "id": "f16ab383",
   "metadata": {
    "cellId": "k5l038o1cdiwszk6paqv"
   },
   "outputs": [],
   "source": [
    "#!g1.2\n"
   ]
  },
  {
   "cell_type": "code",
   "execution_count": 68,
   "id": "d4e8b5ad",
   "metadata": {
    "cellId": "m5ud01c359xun2fseykpn"
   },
   "outputs": [],
   "source": [
    "#!g1.2\n",
    "plt.imshow(conv_to_img(mask))"
   ]
  },
  {
   "cell_type": "raw",
   "id": "091e6af4",
   "metadata": {
    "cellId": "h581yo7wuutlbw1xxdrur"
   },
   "source": [
    "#!g1.2\n"
   ]
  }
 ],
 "metadata": {
  "colab": {
   "provenance": []
  },
  "language_info": {
   "codemirror_mode": {
    "name": "ipython",
    "version": 3
   },
   "file_extension": ".py",
   "mimetype": "text/x-python",
   "name": "python",
   "nbconvert_exporter": "python",
   "pygments_lexer": "ipython3",
   "version": "3.7.7"
  },
  "notebookId": "c2939a09-c1ae-44e2-a0e6-d5f348f7d02f",
  "notebookPath": "figureExtraction/trainDistributedDataParallel.ipynb"
 },
 "nbformat": 4,
 "nbformat_minor": 5
}
