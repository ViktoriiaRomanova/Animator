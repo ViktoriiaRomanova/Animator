{
 "cells": [
  {
   "cell_type": "markdown",
   "id": "44fadb46",
   "metadata": {
    "cellId": "9uu8z469ki5jud73yiza3p",
    "execution_id": "f09b1887-324f-46ce-a088-e38e88585c8b",
    "id": "17635d7a"
   },
   "source": [
    "## Setting up parallel training on N GPU/CPU"
   ]
  },
  {
   "cell_type": "code",
   "execution_count": 1,
   "id": "742f58e4",
   "metadata": {
    "cellId": "j4vshj5sf6rn1bnm71c2i",
    "id": "0a858325"
   },
   "outputs": [],
   "source": [
    "#!g1.2 #noqa\n",
    "import random\n",
    "import sys\n",
    "\n",
    "import torch\n",
    "import torch.multiprocessing as mp\n",
    "from torchvision import transforms"
   ]
  },
  {
   "cell_type": "code",
   "execution_count": 2,
   "id": "589e37db",
   "metadata": {
    "cellId": "q8igkwc5f8bavvj03ksma",
    "id": "55e903f2"
   },
   "outputs": [],
   "source": [
    "#!g1.2 #noqa\n",
    "sys.path.append('/home/jupyter/work/resources/')"
   ]
  },
  {
   "cell_type": "code",
   "execution_count": 3,
   "id": "fc66336a",
   "metadata": {
    "cellId": "di2fdso4gl4544khp453t"
   },
   "outputs": [],
   "source": [
    "#!g1.2 #noqa\n",
    "from processingDataSet import MaskDataset, PreprocessingData, get_not_RGB_pic"
   ]
  },
  {
   "cell_type": "code",
   "execution_count": 4,
   "id": "c446d740",
   "metadata": {
    "cellId": "ugpvai8wbmcratgzx9dafk"
   },
   "outputs": [],
   "source": [
    "#!g1.2 #noqa\n",
    "#data_path = '/home/jupyter/work/resources/models/datasets/segNet'\n",
    "data_path = '/home/jupyter/mnt/datasets/Segmentation/Training'\n",
    "#model_weights_dir = '/home/jupyter/work/resources/figureExtraction/weights/'\n",
    "#weights_path = model_weights_dir + 'pretrained_encoder_weights_DEFAULT.pt'\n",
    "random_state = 10"
   ]
  },
  {
   "cell_type": "code",
   "execution_count": 5,
   "id": "da899a64",
   "metadata": {
    "cellId": "36ji0co2qrcmscmc99ugmd"
   },
   "outputs": [],
   "source": [
    "#!g1.2 #noqa\n",
    "prData = PreprocessingData(0.9)\n",
    "train_data, val_data = prData.get_data(data_path, random_state, 0.009)"
   ]
  },
  {
   "cell_type": "code",
   "execution_count": 6,
   "id": "d98b8171",
   "metadata": {
    "cellId": "6kx9yph0m05jb8tk0sk0m9",
    "id": "db18433e"
   },
   "outputs": [],
   "source": [
    "#!g1.2 #noqa\n",
    "print('Train data size: ', len(train_data), 'Validation data size: ', len(val_data))"
   ]
  },
  {
   "cell_type": "code",
   "execution_count": 7,
   "id": "5429217a",
   "metadata": {
    "cellId": "ufy5wusep89vv1hbmi7jqg",
    "id": "fcd8131c"
   },
   "outputs": [],
   "source": [
    "#!g1.2 #noqa\n",
    "transform = transforms.Compose([\n",
    "    transforms.RandomHorizontalFlip(p = 0.5),\n",
    "    transforms.RandomVerticalFlip(p = 0.5),\n",
    "    transforms.RandomPerspective(p = 0.5),\n",
    "    transforms.RandomRotation(random.randint(0, 180))])"
   ]
  },
  {
   "cell_type": "code",
   "execution_count": 8,
   "id": "11fc18a4",
   "metadata": {
    "cellId": "592t5rc997vkpe2p83wbk",
    "id": "6dc8f009"
   },
   "outputs": [],
   "source": [
    "#!g1.2 #noqa\n",
    "train_set = MaskDataset(data_path, train_data, transform)\n",
    "val_set = MaskDataset(data_path, val_data, transform)"
   ]
  },
  {
   "cell_type": "code",
   "execution_count": 9,
   "id": "451c4d06",
   "metadata": {
    "cellId": "wg3eikwjg5azh9vwqoqezm",
    "id": "3c951f40"
   },
   "outputs": [],
   "source": [
    "#!g1.2 #noqa\n",
    "from distLearningFunc import worker\n",
    "\n",
    "world_size = 2  # Number of GPU\n",
    "batch_size = 30\n",
    "seed = random_state\n",
    "epochs = 1\n",
    "\n",
    "mp.spawn(worker, args = (world_size, train_set, val_set, batch_size, seed, epochs),\n",
    "         nprocs = world_size)"
   ]
  },
  {
   "cell_type": "code",
   "execution_count": 14,
   "id": "28f129fc",
   "metadata": {
    "cellId": "u4lp6qjnt51igf35bld5j",
    "id": "ea4175f6"
   },
   "outputs": [],
   "source": [
    "#!g1.2 #noqa\n",
    "'''\n",
    "    Warning from torch.multiprossesing.spawn:\n",
    "\n",
    "    If the main process exits abruptly (e.g. because of an incoming signal),\n",
    "    Python’s multiprocessing sometimes fails to clean up its children.\n",
    "    It’s a known caveat, so if you’re seeing any resource leaks after interrupting the interpreter,\n",
    "    it probably means that this has just happened to you.\n",
    "    https://pytorch.org/docs/stable/multiprocessing.html\n",
    "'''\n",
    "# To fix that problem, find the PID of this proсess(es)\n",
    "# (depends on how many workers were started) and kill them.\n",
    "!ps -fe | grep multiprocessing.spawn"
   ]
  },
  {
   "cell_type": "code",
   "execution_count": 13,
   "id": "54c7c758",
   "metadata": {
    "cellId": "90i7wpt6d0v3p926j55sg2",
    "id": "70f3f7cf"
   },
   "outputs": [],
   "source": [
    "#!g1.2 #noqa\n",
    "!kill 4159"
   ]
  },
  {
   "cell_type": "code",
   "execution_count": 10,
   "id": "eaeb7701",
   "metadata": {
    "cellId": "32lexgusx0w3qhtfwn73vt"
   },
   "outputs": [],
   "source": [
    "#!g1.2\n",
    "!ls ./models/checkpoints"
   ]
  },
  {
   "cell_type": "code",
   "execution_count": 55,
   "id": "70b9c284",
   "metadata": {
    "cellId": "3kxy9e9ol7b09f01j9np9e8",
    "id": "530ea935"
   },
   "outputs": [],
   "source": [
    "#!g1.2 #noqa\n",
    "trained_state_dict = torch.load('/home/jupyter/work/resources/figureExtraction/models/checkpoints/2024_01_19_13_50_48.pt')"
   ]
  },
  {
   "cell_type": "code",
   "execution_count": 56,
   "id": "c3922887",
   "metadata": {
    "cellId": "uvb0etdhj1w0x49lncs4"
   },
   "outputs": [],
   "source": [
    "#!g1.2\n",
    "trained_state_dict.keys()"
   ]
  },
  {
   "cell_type": "code",
   "execution_count": 12,
   "id": "fc1ab93c",
   "metadata": {
    "cellId": "ttzd3y8vqfpjdndsrewz"
   },
   "outputs": [],
   "source": [
    "#!g1.2\n",
    "model_trained = SegNet()\n",
    "model_trained.load_state_dict(trained_state_dict)"
   ]
  },
  {
   "cell_type": "code",
   "execution_count": 14,
   "id": "94548dc4",
   "metadata": {
    "cellId": "hzpep3o2rxr766knx2w5t2"
   },
   "outputs": [],
   "source": [
    "#!g1.2\n",
    "test_set = MaskDataset(data_path, val_data)"
   ]
  },
  {
   "cell_type": "code",
   "execution_count": 32,
   "id": "e054fca7",
   "metadata": {
    "cellId": "bu733vfzmanyhq9at2l1r"
   },
   "outputs": [],
   "source": [
    "#!g1.2\n",
    "from torchvision import io"
   ]
  },
  {
   "cell_type": "code",
   "execution_count": 46,
   "id": "1b7aa103",
   "metadata": {
    "cellId": "1xi4csp390ig7cqx6attgs"
   },
   "outputs": [],
   "source": [
    "#!g1.2\n",
    "img_path = '/home/jupyter/work/resources/figureExtraction/datasets/segNet/input/227.jpg'\n",
    "mask_path = '/home/jupyter/work/resources/figureExtraction/datasets/segNet/Output/227.png'\n",
    "image = io.read_image(img_path)\n",
    "mask = io.read_image(mask_path)\n",
    "norm = transforms.Normalize((0.485, 0.456, 0.406), (0.229, 0.224, 0.225))\n",
    "to_resized_tensor = transforms.Compose([\n",
    "            transforms.Resize([224, 224], antialias=True)])\n",
    "image = norm(to_resized_tensor(image).div(255))\n",
    "mask = to_resized_tensor(mask).div(255)"
   ]
  },
  {
   "cell_type": "code",
   "execution_count": 47,
   "id": "323210ac",
   "metadata": {
    "cellId": "1t90zy2tc06y3ue0m6w01p"
   },
   "outputs": [],
   "source": [
    "#!g1.2\n",
    "#y = model_trained(test_set[0][0].unsqueeze(0))\n",
    "y = model_trained(image.unsqueeze(0))"
   ]
  },
  {
   "cell_type": "code",
   "execution_count": 17,
   "id": "8f17ee77",
   "metadata": {
    "cellId": "b5vl2j69g2a5toh2okvkuy"
   },
   "outputs": [],
   "source": [
    "#!g1.2\n",
    "from matplotlib import pyplot as plt"
   ]
  },
  {
   "cell_type": "code",
   "execution_count": null,
   "id": "22e5dec6",
   "metadata": {
    "cellId": "thagpoayb96avydsq9mq8"
   },
   "outputs": [],
   "source": [
    "#!g1.2\n",
    "y.shape"
   ]
  },
  {
   "cell_type": "code",
   "execution_count": 18,
   "id": "83b8ba8c",
   "metadata": {
    "cellId": "n1u0gg7fmgg92xq7nio2m"
   },
   "outputs": [],
   "source": [
    "#!g1.2\n",
    "import numpy as np\n",
    "def conv_to_img(tensor: torch.tensor) -> np.array:\n",
    "    \"\"\"Convert image to display by pyplot.\"\"\"\n",
    "    img = tensor.to('cpu').clone().detach()\n",
    "    img = img.numpy().squeeze()\n",
    "    img = img.clip(0, 1)\n",
    "    return img"
   ]
  },
  {
   "cell_type": "code",
   "execution_count": 48,
   "id": "11a8f339",
   "metadata": {
    "cellId": "sdz91d9jthmaoz6nk6fq7p"
   },
   "outputs": [],
   "source": [
    "#!g1.2\n",
    "res = conv_to_img(y)"
   ]
  },
  {
   "cell_type": "code",
   "execution_count": 20,
   "id": "e114baa4",
   "metadata": {
    "cellId": "5t422p7vw1mf5nzi09n8s"
   },
   "outputs": [],
   "source": [
    "#!g1.2\n",
    "def conv_to_img1(tensor: torch.tensor) -> np.array:\n",
    "    \"\"\"Convert image to display by pyplot.\"\"\"\n",
    "    img = tensor.to('cpu').clone().detach()\n",
    "    img = img.numpy().squeeze()\n",
    "    img = img.transpose(1, 2, 0)\n",
    "    img = img * np.array((0.229, 0.224, 0.225)) + np.array((0.485, 0.456, 0.406))\n",
    "    img = img.clip(0, 1)\n",
    "    return img"
   ]
  },
  {
   "cell_type": "code",
   "execution_count": 23,
   "id": "d94d9320",
   "metadata": {
    "cellId": "utrkyxqqebq8lmjhxhexzl"
   },
   "outputs": [],
   "source": [
    "#!g1.2\n",
    "test_set[1][0].shape"
   ]
  },
  {
   "cell_type": "code",
   "execution_count": 28,
   "id": "0e446621",
   "metadata": {
    "cellId": "rce476lkpsbvwa7sc31do"
   },
   "outputs": [],
   "source": [
    "#!g1.2\n",
    "plt.imshow(conv_to_img1(test_set[0][0]))"
   ]
  },
  {
   "cell_type": "code",
   "execution_count": 49,
   "id": "d0aaabb8",
   "metadata": {
    "cellId": "j1n3leznofiy71taok8bq"
   },
   "outputs": [],
   "source": [
    "#!g1.2\n",
    "plt.imshow(res)"
   ]
  },
  {
   "cell_type": "code",
   "execution_count": null,
   "id": "3599607a",
   "metadata": {
    "cellId": "k5l038o1cdiwszk6paqv"
   },
   "outputs": [],
   "source": [
    "#!g1.2\n"
   ]
  },
  {
   "cell_type": "code",
   "execution_count": 50,
   "id": "dae10abd",
   "metadata": {
    "cellId": "m5ud01c359xun2fseykpn"
   },
   "outputs": [],
   "source": [
    "#!g1.2\n",
    "plt.imshow(conv_to_img(mask))"
   ]
  },
  {
   "cell_type": "raw",
   "id": "b98637c7",
   "metadata": {
    "cellId": "h581yo7wuutlbw1xxdrur"
   },
   "source": [
    "#!g1.2\n"
   ]
  }
 ],
 "metadata": {
  "colab": {
   "provenance": []
  },
  "language_info": {
   "codemirror_mode": {
    "name": "ipython",
    "version": 3
   },
   "file_extension": ".py",
   "mimetype": "text/x-python",
   "name": "python",
   "nbconvert_exporter": "python",
   "pygments_lexer": "ipython3",
   "version": "3.7.7"
  },
  "notebookId": "c2939a09-c1ae-44e2-a0e6-d5f348f7d02f",
  "notebookPath": "figureExtraction/trainDistributedDataParallel.ipynb"
 },
 "nbformat": 4,
 "nbformat_minor": 5
}
