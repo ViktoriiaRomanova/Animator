{
 "cells": [
  {
   "cell_type": "markdown",
   "id": "aa1fe38c",
   "metadata": {
    "cellId": "9uu8z469ki5jud73yiza3p",
    "execution_id": "f09b1887-324f-46ce-a088-e38e88585c8b",
    "id": "17635d7a"
   },
   "source": [
    "## Setting up parallel training on N GPU/CPU"
   ]
  },
  {
   "cell_type": "code",
   "execution_count": 1,
   "id": "f0d87c74",
   "metadata": {
    "cellId": "j4vshj5sf6rn1bnm71c2i",
    "execution": {
     "iopub.execute_input": "2024-02-15T14:12:40.901847192Z",
     "iopub.status.busy": "2024-02-15T14:12:41.886714Z",
     "iopub.status.idle": "2024-02-15T14:12:43.405159Z",
     "shell.execute_reply": "2024-02-15T14:12:43.404381Z",
     "shell.execute_reply.started": "2024-02-15T14:12:41.887459Z"
    },
    "id": "0a858325",
    "tags": []
   },
   "outputs": [],
   "source": [
    "#!g1.2\n",
    "import sys\n",
    "\n",
    "import torch\n",
    "import torch.multiprocessing as mp"
   ]
  },
  {
   "cell_type": "raw",
   "id": "8d8c101b",
   "metadata": {
    "cellId": "damdy8j3ozmhod525f7t8l",
    "execution": {
     "iopub.execute_input": "2024-02-15T09:46:07.592700981Z",
     "iopub.status.busy": "2024-02-15T09:47:43.422721Z",
     "iopub.status.idle": "2024-02-15T09:47:43.661066Z",
     "shell.execute_reply": "2024-02-15T09:47:43.660175Z",
     "shell.execute_reply.started": "2024-02-15T09:47:43.423357Z"
    },
    "tags": []
   },
   "source": [
    "import platform\n",
    "platform.platform()"
   ]
  },
  {
   "cell_type": "code",
   "execution_count": 2,
   "id": "7561558e",
   "metadata": {
    "cellId": "q8igkwc5f8bavvj03ksma",
    "execution": {
     "iopub.execute_input": "2024-02-15T14:12:41.850899968Z",
     "iopub.status.busy": "2024-02-15T14:12:44.072694Z",
     "iopub.status.idle": "2024-02-15T14:12:44.109099Z",
     "shell.execute_reply": "2024-02-15T14:12:44.108329Z",
     "shell.execute_reply.started": "2024-02-15T14:12:44.073740Z"
    },
    "id": "55e903f2"
   },
   "outputs": [],
   "source": [
    "#!g1.2\n",
    "sys.path.append('/home/jupyter/work/resources/')"
   ]
  },
  {
   "cell_type": "raw",
   "id": "b8e95d49",
   "metadata": {
    "cellId": "seoecqgd1aoy6xg5fx9fl",
    "execution": {
     "iopub.execute_input": "2024-02-13T15:03:03.385273720Z",
     "iopub.status.busy": "2024-02-13T15:04:41.083291Z",
     "iopub.status.idle": "2024-02-13T15:04:41.370229Z",
     "shell.execute_reply": "2024-02-13T15:04:41.369096Z",
     "shell.execute_reply.started": "2024-02-13T15:04:41.084129Z"
    }
   },
   "source": [
    "!python3 --version"
   ]
  },
  {
   "cell_type": "code",
   "execution_count": 3,
   "id": "04f96dd8",
   "metadata": {
    "cellId": "di2fdso4gl4544khp453t",
    "execution": {
     "iopub.execute_input": "2024-02-15T14:12:42.637612682Z",
     "iopub.status.busy": "2024-02-15T14:12:44.874457Z",
     "iopub.status.idle": "2024-02-15T14:12:45.376269Z",
     "shell.execute_reply": "2024-02-15T14:12:45.375451Z",
     "shell.execute_reply.started": "2024-02-15T14:12:44.875217Z"
    }
   },
   "outputs": [],
   "source": [
    "#!g1.2\n",
    "from processingDataSet import MaskDataset, PreprocessingData, get_not_RGB_pic"
   ]
  },
  {
   "cell_type": "code",
   "execution_count": 4,
   "id": "95fbe1b1",
   "metadata": {
    "cellId": "ugpvai8wbmcratgzx9dafk",
    "execution": {
     "iopub.execute_input": "2024-02-15T14:12:43.125427211Z",
     "iopub.status.busy": "2024-02-15T14:12:46.061368Z",
     "iopub.status.idle": "2024-02-15T14:12:46.074086Z",
     "shell.execute_reply": "2024-02-15T14:12:46.073370Z",
     "shell.execute_reply.started": "2024-02-15T14:12:46.062175Z"
    }
   },
   "outputs": [],
   "source": [
    "#!g1.2 invalid load key, '\\x04'.\n",
    "random_state = 10"
   ]
  },
  {
   "cell_type": "code",
   "execution_count": 5,
   "id": "f4232d6f",
   "metadata": {
    "cellId": "36ji0co2qrcmscmc99ugmd",
    "execution": {
     "iopub.execute_input": "2024-02-15T14:12:43.595843217Z",
     "iopub.status.busy": "2024-02-15T14:12:46.779112Z",
     "iopub.status.idle": "2024-02-15T14:12:46.928973Z",
     "shell.execute_reply": "2024-02-15T14:12:46.928212Z",
     "shell.execute_reply.started": "2024-02-15T14:12:46.780115Z"
    },
    "tags": []
   },
   "outputs": [],
   "source": [
    "#!g1.2\n",
    "data_path = '/home/jupyter/mnt/datasets/Segmentation/Training'\n",
    "prData = PreprocessingData()\n",
    "train_data, val_data = prData.get_data(data_path, random_state)"
   ]
  },
  {
   "cell_type": "code",
   "execution_count": 6,
   "id": "0e429479",
   "metadata": {
    "cellId": "6kx9yph0m05jb8tk0sk0m9",
    "execution": {
     "iopub.execute_input": "2024-02-15T14:12:44.078589136Z",
     "iopub.status.busy": "2024-02-15T14:12:47.594311Z",
     "iopub.status.idle": "2024-02-15T14:12:47.617014Z",
     "shell.execute_reply": "2024-02-15T14:12:47.616263Z",
     "shell.execute_reply.started": "2024-02-15T14:12:47.595053Z"
    },
    "id": "db18433e"
   },
   "outputs": [
    {
     "name": "stdout",
     "output_type": "stream",
     "text": [
      "Train data size:  84999 Validation data size:  4474\n"
     ]
    }
   ],
   "source": [
    "#!g1.2\n",
    "print('Train data size: ', len(train_data), 'Validation data size: ', len(val_data))"
   ]
  },
  {
   "cell_type": "code",
   "execution_count": 7,
   "id": "58480200",
   "metadata": {
    "cellId": "t2m2ljxrwua343z9jihv7",
    "execution": {
     "iopub.execute_input": "2024-02-15T10:22:47.388035011Z",
     "iopub.status.busy": "2024-02-15T10:22:51.622896Z",
     "iopub.status.idle": "2024-02-15T10:22:51.637748Z",
     "shell.execute_reply": "2024-02-15T10:22:51.636867Z",
     "shell.execute_reply.started": "2024-02-15T10:22:51.623657Z"
    }
   },
   "outputs": [],
   "source": [
    "#!g1.2\n",
    "import pandas as pd"
   ]
  },
  {
   "cell_type": "code",
   "execution_count": 13,
   "id": "2d01ecfc",
   "metadata": {
    "cellId": "dn8g4j6kxaeynqa5v1che",
    "execution": {
     "iopub.execute_input": "2024-02-15T08:50:46.434939448Z",
     "iopub.status.busy": "2024-02-15T08:50:47.444227Z",
     "iopub.status.idle": "2024-02-15T08:50:47.473763Z",
     "shell.execute_reply": "2024-02-15T08:50:47.472827Z",
     "shell.execute_reply.started": "2024-02-15T08:50:47.444972Z"
    }
   },
   "outputs": [],
   "source": [
    "#!g1.2\n",
    "frame = pd.read_csv('open_time.csv')"
   ]
  },
  {
   "cell_type": "code",
   "execution_count": 14,
   "id": "926d4cb2",
   "metadata": {
    "cellId": "e5cxfnhqu6ftslzt8shqae",
    "execution": {
     "iopub.execute_input": "2024-02-15T08:50:47.351311335Z",
     "iopub.status.busy": "2024-02-15T08:50:48.360441Z",
     "iopub.status.idle": "2024-02-15T08:50:48.389927Z",
     "shell.execute_reply": "2024-02-15T08:50:48.388939Z",
     "shell.execute_reply.started": "2024-02-15T08:50:48.361209Z"
    }
   },
   "outputs": [],
   "source": [
    "#!g1.2\n",
    "frame.dropna(inplace = True)"
   ]
  },
  {
   "cell_type": "code",
   "execution_count": 15,
   "id": "a2de45b6",
   "metadata": {
    "cellId": "fhqalmnr3glj13aqnbppwo",
    "execution": {
     "iopub.execute_input": "2024-02-15T08:50:47.835050980Z",
     "iopub.status.busy": "2024-02-15T08:50:49.176019Z",
     "iopub.status.idle": "2024-02-15T08:50:49.189302Z",
     "shell.execute_reply": "2024-02-15T08:50:49.188375Z",
     "shell.execute_reply.started": "2024-02-15T08:50:49.176942Z"
    }
   },
   "outputs": [],
   "source": [
    "#!g1.2\n",
    "frame.drop('Unnamed: 0',axis = 1, inplace = True)"
   ]
  },
  {
   "cell_type": "code",
   "execution_count": 8,
   "id": "3594ddea",
   "metadata": {
    "cellId": "gdf7oddgz16o31qwrgrlx",
    "execution": {
     "iopub.execute_input": "2024-02-15T10:23:00.010302157Z",
     "iopub.status.busy": "2024-02-15T10:23:01.036751Z",
     "iopub.status.idle": "2024-02-15T10:23:01.082678Z",
     "shell.execute_reply": "2024-02-15T10:23:01.081786Z",
     "shell.execute_reply.started": "2024-02-15T10:23:01.037514Z"
    }
   },
   "outputs": [],
   "source": [
    "#!g1.2\n",
    "import matplotlib.pyplot as plt"
   ]
  },
  {
   "cell_type": "code",
   "execution_count": 26,
   "id": "f9a9166c",
   "metadata": {
    "cellId": "2ulami2t1ru5ssqqh2f4q3",
    "execution": {
     "iopub.execute_input": "2024-02-15T09:00:56.502314963Z",
     "iopub.status.busy": "2024-02-15T09:00:57.498318Z",
     "iopub.status.idle": "2024-02-15T09:00:57.509524Z",
     "shell.execute_reply": "2024-02-15T09:00:57.508655Z",
     "shell.execute_reply.started": "2024-02-15T09:00:57.499136Z"
    }
   },
   "outputs": [],
   "source": [
    "#!g1.2\n",
    "frame.reset_index(inplace = True)"
   ]
  },
  {
   "cell_type": "code",
   "execution_count": 28,
   "id": "7185909b",
   "metadata": {
    "cellId": "ah2zwq6zxfjwhuc8qr6s5f",
    "execution": {
     "iopub.execute_input": "2024-02-15T09:01:40.085902447Z",
     "iopub.status.busy": "2024-02-15T09:01:41.256592Z",
     "iopub.status.idle": "2024-02-15T09:01:41.268772Z",
     "shell.execute_reply": "2024-02-15T09:01:41.267857Z",
     "shell.execute_reply.started": "2024-02-15T09:01:41.257382Z"
    }
   },
   "outputs": [],
   "source": [
    "#!g1.2\n",
    "frame.drop('index',axis = 1, inplace = True)"
   ]
  },
  {
   "cell_type": "code",
   "execution_count": 29,
   "id": "c38d3f58",
   "metadata": {
    "cellId": "w2ucoy0me7da7nw3b1o14w",
    "execution": {
     "iopub.execute_input": "2024-02-15T09:02:20.569706393Z",
     "iopub.status.busy": "2024-02-15T09:02:21.561173Z",
     "iopub.status.idle": "2024-02-15T09:02:21.589290Z",
     "shell.execute_reply": "2024-02-15T09:02:21.588369Z",
     "shell.execute_reply.started": "2024-02-15T09:02:21.562044Z"
    }
   },
   "outputs": [
    {
     "data": {
      "text/html": [
       "<div>\n",
       "<style scoped>\n",
       "    .dataframe tbody tr th:only-of-type {\n",
       "        vertical-align: middle;\n",
       "    }\n",
       "\n",
       "    .dataframe tbody tr th {\n",
       "        vertical-align: top;\n",
       "    }\n",
       "\n",
       "    .dataframe thead th {\n",
       "        text-align: right;\n",
       "    }\n",
       "</style>\n",
       "<table border=\"1\" class=\"dataframe\">\n",
       "  <thead>\n",
       "    <tr style=\"text-align: right;\">\n",
       "      <th></th>\n",
       "      <th>device:</th>\n",
       "      <th>time:</th>\n",
       "      <th>id:</th>\n",
       "    </tr>\n",
       "  </thead>\n",
       "  <tbody>\n",
       "    <tr>\n",
       "      <th>0</th>\n",
       "      <td>cuda:0</td>\n",
       "      <td>0.003815</td>\n",
       "      <td>0</td>\n",
       "    </tr>\n",
       "    <tr>\n",
       "      <th>1</th>\n",
       "      <td>cuda:0</td>\n",
       "      <td>0.003534</td>\n",
       "      <td>4</td>\n",
       "    </tr>\n",
       "    <tr>\n",
       "      <th>2</th>\n",
       "      <td>cuda:0</td>\n",
       "      <td>0.004119</td>\n",
       "      <td>1</td>\n",
       "    </tr>\n",
       "    <tr>\n",
       "      <th>3</th>\n",
       "      <td>cuda:0</td>\n",
       "      <td>0.005191</td>\n",
       "      <td>7</td>\n",
       "    </tr>\n",
       "    <tr>\n",
       "      <th>4</th>\n",
       "      <td>cuda:0</td>\n",
       "      <td>0.004180</td>\n",
       "      <td>3</td>\n",
       "    </tr>\n",
       "    <tr>\n",
       "      <th>...</th>\n",
       "      <td>...</td>\n",
       "      <td>...</td>\n",
       "      <td>...</td>\n",
       "    </tr>\n",
       "    <tr>\n",
       "      <th>15268</th>\n",
       "      <td>cuda:1</td>\n",
       "      <td>0.042325</td>\n",
       "      <td>3</td>\n",
       "    </tr>\n",
       "    <tr>\n",
       "      <th>15269</th>\n",
       "      <td>cuda:1</td>\n",
       "      <td>0.033720</td>\n",
       "      <td>5</td>\n",
       "    </tr>\n",
       "    <tr>\n",
       "      <th>15270</th>\n",
       "      <td>cuda:1</td>\n",
       "      <td>0.006322</td>\n",
       "      <td>4</td>\n",
       "    </tr>\n",
       "    <tr>\n",
       "      <th>15271</th>\n",
       "      <td>cuda:1</td>\n",
       "      <td>0.007717</td>\n",
       "      <td>3</td>\n",
       "    </tr>\n",
       "    <tr>\n",
       "      <th>15272</th>\n",
       "      <td>cuda:1</td>\n",
       "      <td>0.006631</td>\n",
       "      <td>5</td>\n",
       "    </tr>\n",
       "  </tbody>\n",
       "</table>\n",
       "<p>15273 rows × 3 columns</p>\n",
       "</div>"
      ],
      "text/plain": [
       "      device:     time: id: \n",
       "0      cuda:0  0.003815    0\n",
       "1      cuda:0  0.003534    4\n",
       "2      cuda:0  0.004119    1\n",
       "3      cuda:0  0.005191    7\n",
       "4      cuda:0  0.004180    3\n",
       "...       ...       ...  ...\n",
       "15268  cuda:1  0.042325    3\n",
       "15269  cuda:1  0.033720    5\n",
       "15270  cuda:1  0.006322    4\n",
       "15271  cuda:1  0.007717    3\n",
       "15272  cuda:1  0.006631    5\n",
       "\n",
       "[15273 rows x 3 columns]"
      ]
     },
     "execution_count": 29,
     "metadata": {},
     "output_type": "execute_result"
    }
   ],
   "source": [
    "#!g1.2\n",
    "frame"
   ]
  },
  {
   "cell_type": "code",
   "execution_count": 17,
   "id": "928e4e17",
   "metadata": {
    "cellId": "al56czkmowffc2t6pan0ku",
    "execution": {
     "iopub.execute_input": "2024-02-15T08:51:02.615156489Z",
     "iopub.status.busy": "2024-02-15T08:51:03.595393Z",
     "iopub.status.idle": "2024-02-15T08:51:03.612582Z",
     "shell.execute_reply": "2024-02-15T08:51:03.611613Z",
     "shell.execute_reply.started": "2024-02-15T08:51:03.596087Z"
    }
   },
   "outputs": [],
   "source": [
    "#!g1.2\n",
    "frame['time:'] = frame['time:'].astype(float)"
   ]
  },
  {
   "cell_type": "code",
   "execution_count": 51,
   "id": "6ed97309",
   "metadata": {
    "cellId": "ln4cvuy3273craccp1kz3",
    "execution": {
     "iopub.execute_input": "2024-02-15T09:14:28.782222349Z",
     "iopub.status.busy": "2024-02-15T09:14:29.755933Z",
     "iopub.status.idle": "2024-02-15T09:14:30.027933Z",
     "shell.execute_reply": "2024-02-15T09:14:30.027043Z",
     "shell.execute_reply.started": "2024-02-15T09:14:29.756749Z"
    }
   },
   "outputs": [
    {
     "data": {
      "text/plain": [
       "<Axes: >"
      ]
     },
     "execution_count": 51,
     "metadata": {},
     "output_type": "execute_result"
    },
    {
     "data": {
      "image/png": "[encoded data removed]",
      "text/plain": [
       "<Figure size 432x288 with 1 Axes>"
      ]
     },
     "metadata": {
      "needs_background": "light"
     },
     "output_type": "display_data"
    }
   ],
   "source": [
    "#!g1.2\n",
    "frame[frame['device:'] == 'cuda:0'].plot(xlim = (0, 16384))"
   ]
  },
  {
   "cell_type": "code",
   "execution_count": 52,
   "id": "1aa68cab",
   "metadata": {
    "cellId": "xsd32u3no5i708sv8wcll3",
    "execution": {
     "iopub.execute_input": "2024-02-15T09:14:34.924438792Z",
     "iopub.status.busy": "2024-02-15T09:14:35.954342Z",
     "iopub.status.idle": "2024-02-15T09:14:36.185772Z",
     "shell.execute_reply": "2024-02-15T09:14:36.184962Z",
     "shell.execute_reply.started": "2024-02-15T09:14:35.955080Z"
    }
   },
   "outputs": [
    {
     "data": {
      "text/plain": [
       "<Axes: >"
      ]
     },
     "execution_count": 52,
     "metadata": {},
     "output_type": "execute_result"
    },
    {
     "data": {
      "image/png": "[encoded data removed]",
      "text/plain": [
       "<Figure size 432x288 with 1 Axes>"
      ]
     },
     "metadata": {
      "needs_background": "light"
     },
     "output_type": "display_data"
    }
   ],
   "source": [
    "#!g1.2\n",
    "frame[frame['device:'] == 'cuda:1'].plot(xlim = (0, 16384))"
   ]
  },
  {
   "cell_type": "code",
   "execution_count": 54,
   "id": "fc06f905",
   "metadata": {
    "cellId": "82xdahndw1hiee1dubpn5p",
    "execution": {
     "iopub.execute_input": "2024-02-15T09:15:01.886206830Z",
     "iopub.status.busy": "2024-02-15T09:15:02.929552Z",
     "iopub.status.idle": "2024-02-15T09:15:02.943481Z",
     "shell.execute_reply": "2024-02-15T09:15:02.942581Z",
     "shell.execute_reply.started": "2024-02-15T09:15:02.930389Z"
    }
   },
   "outputs": [
    {
     "data": {
      "text/plain": [
       "0.023754806010401808"
      ]
     },
     "execution_count": 54,
     "metadata": {},
     "output_type": "execute_result"
    }
   ],
   "source": [
    "#!g1.2\n",
    "frame1['time:'][:16384].mean()"
   ]
  },
  {
   "cell_type": "code",
   "execution_count": 56,
   "id": "873895a1",
   "metadata": {
    "cellId": "aoazeb8r5isuqhuf0k5uz8",
    "execution": {
     "iopub.execute_input": "2024-02-15T09:19:28.177831818Z",
     "iopub.status.busy": "2024-02-15T09:19:29.194893Z",
     "iopub.status.idle": "2024-02-15T09:19:29.208983Z",
     "shell.execute_reply": "2024-02-15T09:19:29.208121Z",
     "shell.execute_reply.started": "2024-02-15T09:19:29.195716Z"
    }
   },
   "outputs": [
    {
     "data": {
      "text/plain": [
       "0.024437813457232383"
      ]
     },
     "execution_count": 56,
     "metadata": {},
     "output_type": "execute_result"
    }
   ],
   "source": [
    "#!g1.2\n",
    "frame1['time:'].mean()"
   ]
  },
  {
   "cell_type": "code",
   "execution_count": 53,
   "id": "a524ca55",
   "metadata": {
    "cellId": "o0yy3v11ar9ja70xgacu7h",
    "execution": {
     "iopub.execute_input": "2024-02-15T09:14:56.532704090Z",
     "iopub.status.busy": "2024-02-15T09:14:57.511206Z",
     "iopub.status.idle": "2024-02-15T09:14:57.524789Z",
     "shell.execute_reply": "2024-02-15T09:14:57.523890Z",
     "shell.execute_reply.started": "2024-02-15T09:14:57.512096Z"
    }
   },
   "outputs": [
    {
     "data": {
      "text/plain": [
       "0.11461426722685715"
      ]
     },
     "execution_count": 53,
     "metadata": {},
     "output_type": "execute_result"
    }
   ],
   "source": [
    "#!g1.2\n",
    "frame['time:'][:16384].mean()"
   ]
  },
  {
   "cell_type": "code",
   "execution_count": 9,
   "id": "b9dacd42",
   "metadata": {
    "cellId": "a913zwe95uhk75wdsc1cdf",
    "execution": {
     "iopub.execute_input": "2024-02-15T08:41:54.035134577Z",
     "iopub.status.busy": "2024-02-15T08:41:55.126283Z",
     "iopub.status.idle": "2024-02-15T08:41:55.222414Z",
     "shell.execute_reply": "2024-02-15T08:41:55.221374Z",
     "shell.execute_reply.started": "2024-02-15T08:41:55.127398Z"
    }
   },
   "outputs": [],
   "source": [
    "#!g1.2\n",
    "frame1 = pd.read_csv('open_time1.csv')\n",
    "frame1.dropna(inplace = True)\n",
    "frame1.drop('Unnamed: 0',axis = 1, inplace = True)\n",
    "frame1['time:'] = frame1['time:'].astype(float)\n",
    "frame1.reset_index(inplace = True)\n",
    "frame1.drop('index',axis = 1, inplace = True)"
   ]
  },
  {
   "cell_type": "code",
   "execution_count": null,
   "id": "8f1f50ca",
   "metadata": {
    "cellId": "5dfy94hi30pf0hrxtc604n"
   },
   "outputs": [],
   "source": [
    "#!g1.2\n",
    "frame1[frame1['device:'] == 'cuda:0'].plot(xlim = (0, 16384))"
   ]
  },
  {
   "cell_type": "code",
   "execution_count": 50,
   "id": "94bd8d8d",
   "metadata": {
    "cellId": "bbrcozxm5ziedd0fcy7x75",
    "execution": {
     "iopub.execute_input": "2024-02-15T09:12:12.863117723Z",
     "iopub.status.busy": "2024-02-15T09:12:13.894273Z",
     "iopub.status.idle": "2024-02-15T09:12:14.166870Z",
     "shell.execute_reply": "2024-02-15T09:12:14.165958Z",
     "shell.execute_reply.started": "2024-02-15T09:12:13.895100Z"
    }
   },
   "outputs": [
    {
     "data": {
      "text/plain": [
       "<Axes: >"
      ]
     },
     "execution_count": 50,
     "metadata": {},
     "output_type": "execute_result"
    },
    {
     "data": {
      "image/png": "[encoded data removed]",
      "text/plain": [
       "<Figure size 432x288 with 1 Axes>"
      ]
     },
     "metadata": {
      "needs_background": "light"
     },
     "output_type": "display_data"
    }
   ],
   "source": [
    "#!g1.2\n",
    "frame1[frame1['device:'] == 'cuda:1'].plot( xlim = (0, 16384))"
   ]
  },
  {
   "cell_type": "code",
   "execution_count": 10,
   "id": "55610fcd",
   "metadata": {
    "cellId": "7rxgotmgwcsv4jsm4mpafl",
    "execution": {
     "iopub.execute_input": "2024-02-15T09:24:32.101491839Z",
     "iopub.status.busy": "2024-02-15T09:24:33.146920Z",
     "iopub.status.idle": "2024-02-15T09:24:33.211745Z",
     "shell.execute_reply": "2024-02-15T09:24:33.210781Z",
     "shell.execute_reply.started": "2024-02-15T09:24:33.147662Z"
    }
   },
   "outputs": [],
   "source": [
    "#!g1.2\n",
    "frame2 = pd.read_csv('open_time2.csv')\n",
    "frame2.dropna(inplace = True)\n",
    "frame2.drop('Unnamed: 0',axis = 1, inplace = True)\n",
    "frame2['time:'] = frame2['time:'].astype(float)\n",
    "frame2.reset_index(inplace = True)\n",
    "frame2.drop('index',axis = 1, inplace = True)"
   ]
  },
  {
   "cell_type": "code",
   "execution_count": 12,
   "id": "64047a0d",
   "metadata": {
    "cellId": "yjadu5e5k6jqa390846ef",
    "execution": {
     "iopub.execute_input": "2024-02-15T09:25:01.231107776Z",
     "iopub.status.busy": "2024-02-15T09:25:02.283482Z",
     "iopub.status.idle": "2024-02-15T09:25:02.546656Z",
     "shell.execute_reply": "2024-02-15T09:25:02.545756Z",
     "shell.execute_reply.started": "2024-02-15T09:25:02.284214Z"
    }
   },
   "outputs": [
    {
     "data": {
      "text/plain": [
       "<Axes: >"
      ]
     },
     "execution_count": 12,
     "metadata": {},
     "output_type": "execute_result"
    },
    {
     "data": {
      "image/png": "[encoded data removed]",
      "text/plain": [
       "<Figure size 432x288 with 1 Axes>"
      ]
     },
     "metadata": {
      "needs_background": "light"
     },
     "output_type": "display_data"
    }
   ],
   "source": [
    "#!g1.2\n",
    "frame2[frame2['device:'] == 'cuda:0'].plot(xlim = (0, 16384))"
   ]
  },
  {
   "cell_type": "code",
   "execution_count": 14,
   "id": "4a69f9f1",
   "metadata": {
    "cellId": "s2d515jftmb7v2va5unjsa",
    "execution": {
     "iopub.execute_input": "2024-02-15T09:25:55.653203092Z",
     "iopub.status.busy": "2024-02-15T09:25:56.710875Z",
     "iopub.status.idle": "2024-02-15T09:25:56.723985Z",
     "shell.execute_reply": "2024-02-15T09:25:56.723141Z",
     "shell.execute_reply.started": "2024-02-15T09:25:56.711645Z"
    }
   },
   "outputs": [
    {
     "data": {
      "text/plain": [
       "0.005254598770989105"
      ]
     },
     "execution_count": 14,
     "metadata": {},
     "output_type": "execute_result"
    }
   ],
   "source": [
    "#!g1.2\n",
    "frame2['time:'][:16384].mean()"
   ]
  },
  {
   "cell_type": "code",
   "execution_count": 15,
   "id": "6823a441",
   "metadata": {
    "cellId": "km2lapz50om9cp2pdvym9s",
    "execution": {
     "iopub.execute_input": "2024-02-15T09:26:13.125876905Z",
     "iopub.status.busy": "2024-02-15T09:26:14.132793Z",
     "iopub.status.idle": "2024-02-15T09:26:14.392247Z",
     "shell.execute_reply": "2024-02-15T09:26:14.391328Z",
     "shell.execute_reply.started": "2024-02-15T09:26:14.133615Z"
    }
   },
   "outputs": [
    {
     "data": {
      "text/plain": [
       "<Axes: >"
      ]
     },
     "execution_count": 15,
     "metadata": {},
     "output_type": "execute_result"
    },
    {
     "data": {
      "image/png": "[encoded data removed]",
      "text/plain": [
       "<Figure size 432x288 with 1 Axes>"
      ]
     },
     "metadata": {
      "needs_background": "light"
     },
     "output_type": "display_data"
    }
   ],
   "source": [
    "#!g1.2\n",
    "frame2[frame2['device:'] == 'cuda:1'].plot(xlim = (0, 16384))"
   ]
  },
  {
   "cell_type": "code",
   "execution_count": 9,
   "id": "47394612",
   "metadata": {
    "cellId": "b18286ns61oo7i2r7affof",
    "execution": {
     "iopub.execute_input": "2024-02-15T09:35:32.505239971Z",
     "iopub.status.busy": "2024-02-15T09:35:33.492807Z",
     "iopub.status.idle": "2024-02-15T09:35:33.572152Z",
     "shell.execute_reply": "2024-02-15T09:35:33.571212Z",
     "shell.execute_reply.started": "2024-02-15T09:35:33.494001Z"
    }
   },
   "outputs": [],
   "source": [
    "#!g1.2\n",
    "frame3 = pd.read_csv('open_time3.csv')\n",
    "frame3.dropna(inplace = True)\n",
    "frame3.drop('Unnamed: 0',axis = 1, inplace = True)\n",
    "frame3['time:'] = frame3['time:'].astype(float)\n",
    "frame3.reset_index(inplace = True)\n",
    "frame3.drop('index',axis = 1, inplace = True)"
   ]
  },
  {
   "cell_type": "code",
   "execution_count": 65,
   "id": "0600d276",
   "metadata": {
    "cellId": "jtqgfbtgsc81luwnuy5yq",
    "execution": {
     "iopub.execute_input": "2024-02-15T10:13:04.249984948Z",
     "iopub.status.busy": "2024-02-15T10:13:05.519467Z",
     "iopub.status.idle": "2024-02-15T10:13:05.535460Z",
     "shell.execute_reply": "2024-02-15T10:13:05.534575Z",
     "shell.execute_reply.started": "2024-02-15T10:13:05.520526Z"
    }
   },
   "outputs": [],
   "source": [
    "#!g1.2\n",
    "import matplotlib.pyplot as plt"
   ]
  },
  {
   "cell_type": "code",
   "execution_count": 16,
   "id": "7f3c0984",
   "metadata": {
    "cellId": "6tpv9obfkxx512pjowtalf",
    "execution": {
     "iopub.execute_input": "2024-02-15T09:43:31.330228446Z",
     "iopub.status.busy": "2024-02-15T09:43:32.276903Z",
     "iopub.status.idle": "2024-02-15T09:43:32.682955Z",
     "shell.execute_reply": "2024-02-15T09:43:32.681992Z",
     "shell.execute_reply.started": "2024-02-15T09:43:32.277758Z"
    }
   },
   "outputs": [
    {
     "data": {
      "text/plain": [
       "<Axes: >"
      ]
     },
     "execution_count": 16,
     "metadata": {},
     "output_type": "execute_result"
    },
    {
     "data": {
      "image/png": "[encoded data removed]",
      "text/plain": [
       "<Figure size 432x288 with 2 Axes>"
      ]
     },
     "metadata": {
      "needs_background": "light"
     },
     "output_type": "display_data"
    }
   ],
   "source": [
    "#!g1.2\n",
    "figure, axis = plt.subplots(1, 2)\n",
    "frame3[frame3['device:'] == 'cuda:0'].plot(xlim = (0, 16384), ax = axis[0])\n",
    "frame3[frame3['device:'] == 'cuda:1'].plot(xlim = (0, 16384), ax = axis[1])"
   ]
  },
  {
   "cell_type": "code",
   "execution_count": 17,
   "id": "4f192f87",
   "metadata": {
    "cellId": "seavayxwwvet8oqnym2o9",
    "execution": {
     "iopub.execute_input": "2024-02-15T09:43:56.414612182Z",
     "iopub.status.busy": "2024-02-15T09:43:57.501360Z",
     "iopub.status.idle": "2024-02-15T09:43:57.515420Z",
     "shell.execute_reply": "2024-02-15T09:43:57.514553Z",
     "shell.execute_reply.started": "2024-02-15T09:43:57.502135Z"
    }
   },
   "outputs": [
    {
     "data": {
      "text/plain": [
       "0.005244698317255825"
      ]
     },
     "execution_count": 17,
     "metadata": {},
     "output_type": "execute_result"
    }
   ],
   "source": [
    "#!g1.2\n",
    "frame3['time:'][:16384].mean()"
   ]
  },
  {
   "cell_type": "code",
   "execution_count": 66,
   "id": "5654267d",
   "metadata": {
    "cellId": "ku0acj1jg6r2q62hacrkl",
    "execution": {
     "iopub.execute_input": "2024-02-15T10:13:41.007346792Z",
     "iopub.status.busy": "2024-02-15T10:13:42.073384Z",
     "iopub.status.idle": "2024-02-15T10:13:42.157991Z",
     "shell.execute_reply": "2024-02-15T10:13:42.157129Z",
     "shell.execute_reply.started": "2024-02-15T10:13:42.074181Z"
    }
   },
   "outputs": [],
   "source": [
    "#!g1.2\n",
    "frame00 = pd.read_csv('open_time00.csv')\n",
    "frame00.dropna(inplace = True)\n",
    "frame00.drop('Unnamed: 0',axis = 1, inplace = True)\n",
    "frame00['time:'] = frame00['time:'].astype(float)\n",
    "frame00.reset_index(inplace = True)\n",
    "frame00.drop('index',axis = 1, inplace = True)"
   ]
  },
  {
   "cell_type": "code",
   "execution_count": 68,
   "id": "3baa9c04",
   "metadata": {
    "cellId": "567jdx2twqjrfo3ig3fim",
    "execution": {
     "iopub.execute_input": "2024-02-15T10:14:00.413906624Z",
     "iopub.status.busy": "2024-02-15T10:14:01.499975Z",
     "iopub.status.idle": "2024-02-15T10:14:02.102937Z",
     "shell.execute_reply": "2024-02-15T10:14:02.101947Z",
     "shell.execute_reply.started": "2024-02-15T10:14:01.500719Z"
    }
   },
   "outputs": [
    {
     "data": {
      "text/plain": [
       "<Axes: >"
      ]
     },
     "execution_count": 68,
     "metadata": {},
     "output_type": "execute_result"
    },
    {
     "data": {
      "image/png": "[encoded data removed]",
      "text/plain": [
       "<Figure size 432x288 with 2 Axes>"
      ]
     },
     "metadata": {
      "needs_background": "light"
     },
     "output_type": "display_data"
    }
   ],
   "source": [
    "#!g1.2\n",
    "figure, axis = plt.subplots(1, 2)\n",
    "frame00[frame00['device:'] == 'cuda:0'].plot(xlim = (0, 16384), ax = axis[0])\n",
    "frame00[frame00['device:'] == 'cuda:1'].plot(xlim = (0, 16384), ax = axis[1])"
   ]
  },
  {
   "cell_type": "code",
   "execution_count": 69,
   "id": "7f20d848",
   "metadata": {
    "cellId": "iut02ljk3psvxpeufd7fr",
    "execution": {
     "iopub.execute_input": "2024-02-15T10:14:26.933537654Z",
     "iopub.status.busy": "2024-02-15T10:14:28.040428Z",
     "iopub.status.idle": "2024-02-15T10:14:28.058496Z",
     "shell.execute_reply": "2024-02-15T10:14:28.057651Z",
     "shell.execute_reply.started": "2024-02-15T10:14:28.041251Z"
    }
   },
   "outputs": [
    {
     "data": {
      "text/plain": [
       "0.1164794612929459"
      ]
     },
     "execution_count": 69,
     "metadata": {},
     "output_type": "execute_result"
    }
   ],
   "source": [
    "#!g1.2\n",
    "frame00['time:'][:16384].mean()"
   ]
  },
  {
   "cell_type": "code",
   "execution_count": 10,
   "id": "6c37bed9",
   "metadata": {
    "cellId": "tbb22t57xwauq28x1ugjq",
    "execution": {
     "iopub.execute_input": "2024-02-15T10:18:46.128244089Z",
     "iopub.status.busy": "2024-02-15T10:18:47.293168Z",
     "iopub.status.idle": "2024-02-15T10:18:47.810375Z",
     "shell.execute_reply": "2024-02-15T10:18:47.809457Z",
     "shell.execute_reply.started": "2024-02-15T10:18:47.294045Z"
    }
   },
   "outputs": [
    {
     "data": {
      "text/plain": [
       "<Axes: >"
      ]
     },
     "execution_count": 10,
     "metadata": {},
     "output_type": "execute_result"
    },
    {
     "data": {
      "image/png": "[encoded data removed]",
      "text/plain": [
       "<Figure size 432x288 with 2 Axes>"
      ]
     },
     "metadata": {
      "needs_background": "light"
     },
     "output_type": "display_data"
    }
   ],
   "source": [
    "#!g1.2\n",
    "frame01 = pd.read_csv('open_time01.csv')\n",
    "frame01.dropna(inplace = True)\n",
    "frame01.drop('Unnamed: 0',axis = 1, inplace = True)\n",
    "frame01['time:'] = frame01['time:'].astype(float)\n",
    "frame01.reset_index(inplace = True)\n",
    "frame01.drop('index',axis = 1, inplace = True)\n",
    "figure, axis = plt.subplots(1, 2)\n",
    "frame01[frame01['device:'] == 'cuda:0'].plot(xlim = (0, 16384), ax = axis[0])\n",
    "frame01[frame01['device:'] == 'cuda:1'].plot(xlim = (0, 16384), ax = axis[1])"
   ]
  },
  {
   "cell_type": "code",
   "execution_count": 11,
   "id": "4dd29157",
   "metadata": {
    "cellId": "xwswwifvxofbo8dzsuw2vq",
    "execution": {
     "iopub.execute_input": "2024-02-15T10:18:58.958307067Z",
     "iopub.status.busy": "2024-02-15T10:19:00.099955Z",
     "iopub.status.idle": "2024-02-15T10:19:00.144009Z",
     "shell.execute_reply": "2024-02-15T10:19:00.143090Z",
     "shell.execute_reply.started": "2024-02-15T10:19:00.100749Z"
    }
   },
   "outputs": [
    {
     "data": {
      "text/plain": [
       "0.02371437866531778"
      ]
     },
     "execution_count": 11,
     "metadata": {},
     "output_type": "execute_result"
    }
   ],
   "source": [
    "#!g1.2\n",
    "frame01['time:'][:16384].mean()"
   ]
  },
  {
   "cell_type": "code",
   "execution_count": 8,
   "id": "ae7cf3d4",
   "metadata": {
    "cellId": "pdtpudg18njshfj6hie9i",
    "execution": {
     "iopub.execute_input": "2024-02-15T14:23:47.293871035Z",
     "iopub.status.busy": "2024-02-15T14:23:49.259921Z",
     "iopub.status.idle": "2024-02-15T14:23:49.278227Z",
     "shell.execute_reply": "2024-02-15T14:23:49.277462Z",
     "shell.execute_reply.started": "2024-02-15T14:23:49.260744Z"
    }
   },
   "outputs": [
    {
     "name": "stdout",
     "output_type": "stream",
     "text": [
      "               total        used        free      shared  buff/cache   available\n",
      "Mem:              94           2          86           0           5          91\n",
      "Swap:              0           0           0\n"
     ]
    }
   ],
   "source": [
    "#!g1.2\n",
    "!free -g"
   ]
  },
  {
   "cell_type": "code",
   "execution_count": null,
   "id": "1ee57608",
   "metadata": {
    "cellId": "wg3eikwjg5azh9vwqoqezm",
    "id": "3c951f40",
    "tags": []
   },
   "outputs": [],
   "source": [
    "#!g1.2\n",
    "from distLearningFunc import worker\n",
    "\n",
    "world_size = 2  # Number of GPU\n",
    "batch_size = 64\n",
    "seed = random_state\n",
    "epochs = 1\n",
    "\n",
    "mp.spawn(worker, args = (world_size, train_data, val_data, batch_size, seed, epochs, '2024_02_02_17_18_49.pt'),\n",
    "         nprocs = world_size)"
   ]
  },
  {
   "cell_type": "code",
   "execution_count": 8,
   "id": "8fae25d9",
   "metadata": {
    "cellId": "u4lp6qjnt51igf35bld5j",
    "execution": {
     "iopub.execute_input": "2024-02-14T13:59:56.381014179Z",
     "iopub.status.busy": "2024-02-14T13:59:57.480168Z",
     "iopub.status.idle": "2024-02-14T13:59:57.528401Z",
     "shell.execute_reply": "2024-02-14T13:59:57.527492Z",
     "shell.execute_reply.started": "2024-02-14T13:59:57.481303Z"
    },
    "id": "ea4175f6"
   },
   "outputs": [
    {
     "name": "stdout",
     "output_type": "stream",
     "text": [
      "jupyter     6466    2421  0 13:59 ?        00:00:00 /bin/sh -c          pip () {             echo 'pip is disabled in bash. Please use %pip magic.' >&2             exit 1         }         pip3 () {             pip         }          ps -fe | grep multiprocessing.spawn \n",
      "jupyter     6468    6466  0 13:59 ?        00:00:00 grep multiprocessing.spawn\n"
     ]
    }
   ],
   "source": [
    "#!g1.2 #noqa\n",
    "'''\n",
    "    Warning from torch.multiprossesing.spawn:\n",
    "\n",
    "    If the main process exits abruptly (e.g. because of an incoming signal),\n",
    "    Python’s multiprocessing sometimes fails to clean up its children.\n",
    "    It’s a known caveat, so if you’re seeing any resource leaks after interrupting the interpreter,\n",
    "    it probably means that this has just happened to you.\n",
    "    https://pytorch.org/docs/stable/multiprocessing.html\n",
    "'''\n",
    "# To fix that problem, find the PID of this proсess(es)\n",
    "# (depends on how many workers were started) and kill them.\n",
    "!ps -fe | grep multiprocessing.spawn"
   ]
  },
  {
   "cell_type": "code",
   "execution_count": null,
   "id": "454c089b",
   "metadata": {
    "cellId": "90i7wpt6d0v3p926j55sg2",
    "id": "70f3f7cf"
   },
   "outputs": [],
   "source": [
    "#!g1.2 #noqa\n",
    "!kill 4159"
   ]
  },
  {
   "cell_type": "code",
   "execution_count": null,
   "id": "daffea8d",
   "metadata": {
    "cellId": "32lexgusx0w3qhtfwn73vt"
   },
   "outputs": [],
   "source": [
    "#!g1.2\n",
    "!ls ./models/checkpoints"
   ]
  },
  {
   "cell_type": "code",
   "execution_count": null,
   "id": "29718b55",
   "metadata": {
    "cellId": "3kxy9e9ol7b09f01j9np9e8",
    "id": "530ea935",
    "tags": []
   },
   "outputs": [],
   "source": [
    "trained_state_dict = torch.load('/home/jupyter/datasphere/project/figureExtraction/train_checkpoints/2024_02_02_17_18_49.pt', map_location=torch.device('cpu'))"
   ]
  },
  {
   "cell_type": "code",
   "execution_count": null,
   "id": "75631397",
   "metadata": {
    "cellId": "uvb0etdhj1w0x49lncs4"
   },
   "outputs": [],
   "source": [
    "#!g1.2\n",
    "trained_state_dict.keys()"
   ]
  },
  {
   "cell_type": "code",
   "execution_count": null,
   "id": "2bb067fc",
   "metadata": {
    "cellId": "ttzd3y8vqfpjdndsrewz",
    "tags": []
   },
   "outputs": [],
   "source": [
    "#!g1.2\n",
    "from SegNetModel import SegNet\n",
    "model_trained = SegNet()\n",
    "model_trained.load_state_dict(trained_state_dict['model_state_dict'])"
   ]
  },
  {
   "cell_type": "code",
   "execution_count": null,
   "id": "57a7df91",
   "metadata": {
    "cellId": "hzpep3o2rxr766knx2w5t2"
   },
   "outputs": [],
   "source": [
    "#!g1.2\n",
    "test_set = MaskDataset(data_path, val_data)"
   ]
  },
  {
   "cell_type": "code",
   "execution_count": null,
   "id": "cf20fd73",
   "metadata": {
    "cellId": "bu733vfzmanyhq9at2l1r"
   },
   "outputs": [],
   "source": [
    "#!g1.2\n",
    "from torchvision import io"
   ]
  },
  {
   "cell_type": "code",
   "execution_count": null,
   "id": "a52813b3",
   "metadata": {
    "cellId": "1xi4csp390ig7cqx6attgs",
    "tags": []
   },
   "outputs": [],
   "source": [
    "from torchvision import transforms\n",
    "img_path = '/home/jupyter/work/resources/figureExtraction/datasets/segNet/input/231.jpg'\n",
    "mask_path = '/home/jupyter/work/resources/figureExtraction/datasets/segNet/Output/231.png'\n",
    "image = io.read_image(img_path)\n",
    "mask = io.read_image(mask_path)\n",
    "norm = transforms.Normalize((0.485, 0.456, 0.406), (0.229, 0.224, 0.225))\n",
    "to_resized_tensor = transforms.Compose([\n",
    "            transforms.Resize([224, 224], antialias=True)])\n",
    "image = norm(to_resized_tensor(image).div(255))\n",
    "mask = to_resized_tensor(mask).div(255)"
   ]
  },
  {
   "cell_type": "code",
   "execution_count": null,
   "id": "3c544cbd",
   "metadata": {
    "cellId": "1t90zy2tc06y3ue0m6w01p",
    "tags": []
   },
   "outputs": [],
   "source": [
    "#!g1.2\n",
    "#y = model_trained(test_set[0][0].unsqueeze(0))\n",
    "y = model_trained(image.unsqueeze(0))"
   ]
  },
  {
   "cell_type": "code",
   "execution_count": null,
   "id": "0af69ddf",
   "metadata": {
    "cellId": "b5vl2j69g2a5toh2okvkuy"
   },
   "outputs": [],
   "source": [
    "#!g1.2\n",
    "from matplotlib import pyplot as plt"
   ]
  },
  {
   "cell_type": "code",
   "execution_count": null,
   "id": "3917a926",
   "metadata": {
    "cellId": "thagpoayb96avydsq9mq8"
   },
   "outputs": [],
   "source": [
    "#!g1.2\n",
    "y.shape"
   ]
  },
  {
   "cell_type": "code",
   "execution_count": null,
   "id": "e5e069c9",
   "metadata": {
    "cellId": "n1u0gg7fmgg92xq7nio2m"
   },
   "outputs": [],
   "source": [
    "#!g1.2\n",
    "import numpy as np\n",
    "def conv_to_img(tensor: torch.tensor) -> np.array:\n",
    "    \"\"\"Convert image to display by pyplot.\"\"\"\n",
    "    img = tensor.to('cpu').clone().detach()\n",
    "    img = img.numpy().squeeze()\n",
    "    img = img.clip(0, 1)\n",
    "    return img"
   ]
  },
  {
   "cell_type": "code",
   "execution_count": null,
   "id": "4b4b4ca8",
   "metadata": {
    "cellId": "sdz91d9jthmaoz6nk6fq7p",
    "tags": []
   },
   "outputs": [],
   "source": [
    "#!g1.2\n",
    "res = conv_to_img(y)"
   ]
  },
  {
   "cell_type": "code",
   "execution_count": null,
   "id": "a250bae5",
   "metadata": {
    "cellId": "5t422p7vw1mf5nzi09n8s"
   },
   "outputs": [],
   "source": [
    "#!g1.2\n",
    "def conv_to_img1(tensor: torch.tensor) -> np.array:\n",
    "    \"\"\"Convert image to display by pyplot.\"\"\"\n",
    "    img = tensor.to('cpu').clone().detach()\n",
    "    img = img.numpy().squeeze()\n",
    "    img = img.transpose(1, 2, 0)\n",
    "    img = img * np.array((0.229, 0.224, 0.225)) + np.array((0.485, 0.456, 0.406))\n",
    "    img = img.clip(0, 1)\n",
    "    return img"
   ]
  },
  {
   "cell_type": "code",
   "execution_count": null,
   "id": "85d5491e",
   "metadata": {
    "cellId": "utrkyxqqebq8lmjhxhexzl"
   },
   "outputs": [],
   "source": [
    "#!g1.2\n",
    "test_set[1][0].shape"
   ]
  },
  {
   "cell_type": "code",
   "execution_count": null,
   "id": "a7950908",
   "metadata": {
    "cellId": "rce476lkpsbvwa7sc31do",
    "tags": []
   },
   "outputs": [],
   "source": [
    "#!g1.2\n",
    "plt.imshow(conv_to_img1(image))"
   ]
  },
  {
   "cell_type": "code",
   "execution_count": null,
   "id": "b0622bfd",
   "metadata": {
    "cellId": "j1n3leznofiy71taok8bq",
    "tags": []
   },
   "outputs": [],
   "source": [
    "#!g1.2\n",
    "plt.imshow(res)"
   ]
  },
  {
   "cell_type": "code",
   "execution_count": null,
   "id": "caa4ff73",
   "metadata": {
    "cellId": "k5l038o1cdiwszk6paqv"
   },
   "outputs": [],
   "source": [
    "#!g1.2\n"
   ]
  },
  {
   "cell_type": "code",
   "execution_count": null,
   "id": "08660a6f",
   "metadata": {
    "cellId": "m5ud01c359xun2fseykpn",
    "tags": []
   },
   "outputs": [],
   "source": [
    "#!g1.2\n",
    "plt.imshow(conv_to_img(mask))"
   ]
  },
  {
   "cell_type": "raw",
   "id": "eb59da47",
   "metadata": {
    "cellId": "h581yo7wuutlbw1xxdrur"
   },
   "source": [
    "#!g1.2\n"
   ]
  }
 ],
 "metadata": {
  "colab": {
   "provenance": []
  },
  "language_info": {
   "codemirror_mode": {
    "name": "ipython",
    "version": 3
   },
   "file_extension": ".py",
   "mimetype": "text/x-python",
   "name": "python",
   "nbconvert_exporter": "python",
   "pygments_lexer": "ipython3",
   "version": "3.7.7"
  },
  "notebookId": "c2939a09-c1ae-44e2-a0e6-d5f348f7d02f",
  "notebookPath": "figureExtraction/trainDistributedDataParallel.ipynb"
 },
 "nbformat": 4,
 "nbformat_minor": 5
}
