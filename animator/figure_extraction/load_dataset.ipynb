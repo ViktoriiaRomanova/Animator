{
 "cells": [
  {
   "cell_type": "markdown",
   "id": "e4e57d90",
   "metadata": {
    "cellId": "o7v5uh5twai7s7fs7iifc",
    "execution_id": "5f8aabd6-dcc5-484c-9984-77e8bda80263",
    "id": "561ddcfc"
   },
   "source": [
    "# Get DataSet from kaggle"
   ]
  },
  {
   "cell_type": "code",
   "execution_count": null,
   "id": "6208cfb4",
   "metadata": {
    "cellId": "bsmb1x448sgw80cdpplvi",
    "id": "f6b613db"
   },
   "outputs": [],
   "source": [
    "%pip install kaggle"
   ]
  },
  {
   "cell_type": "code",
   "execution_count": null,
   "id": "a8f3c673",
   "metadata": {
    "cellId": "9g7kzo0blfooos58f3r57t",
    "id": "0eb37e82"
   },
   "outputs": [],
   "source": [
    "#pragma dataset init Segmentation --size 16Gb\n",
    "\n",
    "import kaggle\n",
    "\n",
    "dest_dir = '/home/jupyter/mnt/datasets/Segmentation'\n",
    "\n",
    "kaggle.api.dataset_download_files('furkankati/person-Segmentation-dataset', path = dest_dir, unzip = True)"
   ]
  },
  {
   "cell_type": "code",
   "execution_count": null,
   "id": "eb549404",
   "metadata": {
    "cellId": "azsiy9gyz059txuwxipu2o",
    "id": "58dd96e0",
    "scrolled": true
   },
   "outputs": [],
   "source": [
    "!ls /home/jupyter/mnt/datasets/Segmentation/"
   ]
  }
 ],
 "metadata": {
  "colab": {
   "provenance": []
  },
  "language_info": {
   "codemirror_mode": {
    "name": "ipython",
    "version": 3
   },
   "file_extension": ".py",
   "mimetype": "text/x-python",
   "name": "python",
   "nbconvert_exporter": "python",
   "pygments_lexer": "ipython3",
   "version": "3.7.7"
  },
  "notebookId": "d9deed63-0372-46f9-83a1-f6bcd0527532",
  "notebookPath": "figureExtraction/getDataSet.ipynb"
 },
 "nbformat": 4,
 "nbformat_minor": 5
}
